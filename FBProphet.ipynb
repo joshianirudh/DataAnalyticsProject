{
  "nbformat": 4,
  "nbformat_minor": 0,
  "metadata": {
    "colab": {
      "name": "FBProphet.ipynb",
      "provenance": [],
      "collapsed_sections": []
    },
    "kernelspec": {
      "name": "python3",
      "display_name": "Python 3"
    },
    "language_info": {
      "name": "python"
    }
  },
  "cells": [
    {
      "cell_type": "code",
      "metadata": {
        "id": "9gITNSowdhFu"
      },
      "source": [
        "import pandas as pd\n",
        "import fbprophet\n",
        "from sklearn.metrics import mean_squared_error,mean_absolute_error\n",
        "import matplotlib.pyplot as plt"
      ],
      "execution_count": 1,
      "outputs": []
    },
    {
      "cell_type": "code",
      "metadata": {
        "id": "QCA82yFsdt22"
      },
      "source": [
        "df = pd.read_csv('final.csv')"
      ],
      "execution_count": 2,
      "outputs": []
    },
    {
      "cell_type": "code",
      "metadata": {
        "id": "p7zi1FU1fDai"
      },
      "source": [
        "df = df.rename({'Unnamed: 0':'year'},axis = 1)\n",
        "year = []\n",
        "for i in df.year:\n",
        "     year.append(i.split(' ')[0])\n",
        "df.year = year\n",
        "df['year'] = pd.to_datetime(df['year'],dayfirst=True)"
      ],
      "execution_count": 3,
      "outputs": []
    },
    {
      "cell_type": "code",
      "metadata": {
        "id": "syopCqPpfDnf"
      },
      "source": [
        "data = df[['year','GDP per capita (current US$)']]"
      ],
      "execution_count": 4,
      "outputs": []
    },
    {
      "cell_type": "code",
      "metadata": {
        "colab": {
          "base_uri": "https://localhost:8080/",
          "height": 422
        },
        "id": "vJYVNMnLgSl6",
        "outputId": "2d5b7425-6a44-4977-cdda-b750434fc275"
      },
      "source": [
        "data"
      ],
      "execution_count": 5,
      "outputs": [
        {
          "output_type": "execute_result",
          "data": {
            "text/html": [
              "<div>\n",
              "<style scoped>\n",
              "    .dataframe tbody tr th:only-of-type {\n",
              "        vertical-align: middle;\n",
              "    }\n",
              "\n",
              "    .dataframe tbody tr th {\n",
              "        vertical-align: top;\n",
              "    }\n",
              "\n",
              "    .dataframe thead th {\n",
              "        text-align: right;\n",
              "    }\n",
              "</style>\n",
              "<table border=\"1\" class=\"dataframe\">\n",
              "  <thead>\n",
              "    <tr style=\"text-align: right;\">\n",
              "      <th></th>\n",
              "      <th>year</th>\n",
              "      <th>GDP per capita (current US$)</th>\n",
              "    </tr>\n",
              "  </thead>\n",
              "  <tbody>\n",
              "    <tr>\n",
              "      <th>0</th>\n",
              "      <td>1960-01-01</td>\n",
              "      <td>82.188603</td>\n",
              "    </tr>\n",
              "    <tr>\n",
              "      <th>1</th>\n",
              "      <td>1961-01-01</td>\n",
              "      <td>85.354301</td>\n",
              "    </tr>\n",
              "    <tr>\n",
              "      <th>2</th>\n",
              "      <td>1962-01-01</td>\n",
              "      <td>89.881756</td>\n",
              "    </tr>\n",
              "    <tr>\n",
              "      <th>3</th>\n",
              "      <td>1963-01-01</td>\n",
              "      <td>101.126429</td>\n",
              "    </tr>\n",
              "    <tr>\n",
              "      <th>4</th>\n",
              "      <td>1964-01-01</td>\n",
              "      <td>115.537496</td>\n",
              "    </tr>\n",
              "    <tr>\n",
              "      <th>...</th>\n",
              "      <td>...</td>\n",
              "      <td>...</td>\n",
              "    </tr>\n",
              "    <tr>\n",
              "      <th>56</th>\n",
              "      <td>2016-01-01</td>\n",
              "      <td>1732.554242</td>\n",
              "    </tr>\n",
              "    <tr>\n",
              "      <th>57</th>\n",
              "      <td>2017-01-01</td>\n",
              "      <td>1980.667020</td>\n",
              "    </tr>\n",
              "    <tr>\n",
              "      <th>58</th>\n",
              "      <td>2018-01-01</td>\n",
              "      <td>1996.915087</td>\n",
              "    </tr>\n",
              "    <tr>\n",
              "      <th>59</th>\n",
              "      <td>2019-01-01</td>\n",
              "      <td>2100.751461</td>\n",
              "    </tr>\n",
              "    <tr>\n",
              "      <th>60</th>\n",
              "      <td>2020-01-01</td>\n",
              "      <td>1900.706810</td>\n",
              "    </tr>\n",
              "  </tbody>\n",
              "</table>\n",
              "<p>61 rows × 2 columns</p>\n",
              "</div>"
            ],
            "text/plain": [
              "         year  GDP per capita (current US$)\n",
              "0  1960-01-01                     82.188603\n",
              "1  1961-01-01                     85.354301\n",
              "2  1962-01-01                     89.881756\n",
              "3  1963-01-01                    101.126429\n",
              "4  1964-01-01                    115.537496\n",
              "..        ...                           ...\n",
              "56 2016-01-01                   1732.554242\n",
              "57 2017-01-01                   1980.667020\n",
              "58 2018-01-01                   1996.915087\n",
              "59 2019-01-01                   2100.751461\n",
              "60 2020-01-01                   1900.706810\n",
              "\n",
              "[61 rows x 2 columns]"
            ]
          },
          "metadata": {},
          "execution_count": 5
        }
      ]
    },
    {
      "cell_type": "code",
      "metadata": {
        "id": "rfFGwztlgSxR"
      },
      "source": [
        "train = data[:55]"
      ],
      "execution_count": 33,
      "outputs": []
    },
    {
      "cell_type": "code",
      "metadata": {
        "id": "W3jITVLYepfb"
      },
      "source": [
        "train.columns = ['ds','y']\n",
        "data.columns = ['ds','y']"
      ],
      "execution_count": 34,
      "outputs": []
    },
    {
      "cell_type": "code",
      "metadata": {
        "colab": {
          "base_uri": "https://localhost:8080/",
          "height": 1000
        },
        "id": "1n97OvgkgbR6",
        "outputId": "15aaa7f5-0e37-4942-ceeb-229238301d17"
      },
      "source": [
        "train"
      ],
      "execution_count": 35,
      "outputs": [
        {
          "output_type": "execute_result",
          "data": {
            "text/html": [
              "<div>\n",
              "<style scoped>\n",
              "    .dataframe tbody tr th:only-of-type {\n",
              "        vertical-align: middle;\n",
              "    }\n",
              "\n",
              "    .dataframe tbody tr th {\n",
              "        vertical-align: top;\n",
              "    }\n",
              "\n",
              "    .dataframe thead th {\n",
              "        text-align: right;\n",
              "    }\n",
              "</style>\n",
              "<table border=\"1\" class=\"dataframe\">\n",
              "  <thead>\n",
              "    <tr style=\"text-align: right;\">\n",
              "      <th></th>\n",
              "      <th>ds</th>\n",
              "      <th>y</th>\n",
              "    </tr>\n",
              "  </thead>\n",
              "  <tbody>\n",
              "    <tr>\n",
              "      <th>0</th>\n",
              "      <td>1960-01-01</td>\n",
              "      <td>82.188603</td>\n",
              "    </tr>\n",
              "    <tr>\n",
              "      <th>1</th>\n",
              "      <td>1961-01-01</td>\n",
              "      <td>85.354301</td>\n",
              "    </tr>\n",
              "    <tr>\n",
              "      <th>2</th>\n",
              "      <td>1962-01-01</td>\n",
              "      <td>89.881756</td>\n",
              "    </tr>\n",
              "    <tr>\n",
              "      <th>3</th>\n",
              "      <td>1963-01-01</td>\n",
              "      <td>101.126429</td>\n",
              "    </tr>\n",
              "    <tr>\n",
              "      <th>4</th>\n",
              "      <td>1964-01-01</td>\n",
              "      <td>115.537496</td>\n",
              "    </tr>\n",
              "    <tr>\n",
              "      <th>5</th>\n",
              "      <td>1965-01-01</td>\n",
              "      <td>119.318916</td>\n",
              "    </tr>\n",
              "    <tr>\n",
              "      <th>6</th>\n",
              "      <td>1966-01-01</td>\n",
              "      <td>89.997304</td>\n",
              "    </tr>\n",
              "    <tr>\n",
              "      <th>7</th>\n",
              "      <td>1967-01-01</td>\n",
              "      <td>96.339136</td>\n",
              "    </tr>\n",
              "    <tr>\n",
              "      <th>8</th>\n",
              "      <td>1968-01-01</td>\n",
              "      <td>99.875963</td>\n",
              "    </tr>\n",
              "    <tr>\n",
              "      <th>9</th>\n",
              "      <td>1969-01-01</td>\n",
              "      <td>107.622318</td>\n",
              "    </tr>\n",
              "    <tr>\n",
              "      <th>10</th>\n",
              "      <td>1970-01-01</td>\n",
              "      <td>112.434492</td>\n",
              "    </tr>\n",
              "    <tr>\n",
              "      <th>11</th>\n",
              "      <td>1971-01-01</td>\n",
              "      <td>118.603241</td>\n",
              "    </tr>\n",
              "    <tr>\n",
              "      <th>12</th>\n",
              "      <td>1972-01-01</td>\n",
              "      <td>122.981864</td>\n",
              "    </tr>\n",
              "    <tr>\n",
              "      <th>13</th>\n",
              "      <td>1973-01-01</td>\n",
              "      <td>143.778688</td>\n",
              "    </tr>\n",
              "    <tr>\n",
              "      <th>14</th>\n",
              "      <td>1974-01-01</td>\n",
              "      <td>163.478113</td>\n",
              "    </tr>\n",
              "    <tr>\n",
              "      <th>15</th>\n",
              "      <td>1975-01-01</td>\n",
              "      <td>158.036171</td>\n",
              "    </tr>\n",
              "    <tr>\n",
              "      <th>16</th>\n",
              "      <td>1976-01-01</td>\n",
              "      <td>161.092092</td>\n",
              "    </tr>\n",
              "    <tr>\n",
              "      <th>17</th>\n",
              "      <td>1977-01-01</td>\n",
              "      <td>186.213504</td>\n",
              "    </tr>\n",
              "    <tr>\n",
              "      <th>18</th>\n",
              "      <td>1978-01-01</td>\n",
              "      <td>205.693383</td>\n",
              "    </tr>\n",
              "    <tr>\n",
              "      <th>19</th>\n",
              "      <td>1979-01-01</td>\n",
              "      <td>224.001019</td>\n",
              "    </tr>\n",
              "    <tr>\n",
              "      <th>20</th>\n",
              "      <td>1980-01-01</td>\n",
              "      <td>266.577851</td>\n",
              "    </tr>\n",
              "    <tr>\n",
              "      <th>21</th>\n",
              "      <td>1981-01-01</td>\n",
              "      <td>270.470601</td>\n",
              "    </tr>\n",
              "    <tr>\n",
              "      <th>22</th>\n",
              "      <td>1982-01-01</td>\n",
              "      <td>274.111334</td>\n",
              "    </tr>\n",
              "    <tr>\n",
              "      <th>23</th>\n",
              "      <td>1983-01-01</td>\n",
              "      <td>291.238110</td>\n",
              "    </tr>\n",
              "    <tr>\n",
              "      <th>24</th>\n",
              "      <td>1984-01-01</td>\n",
              "      <td>276.667958</td>\n",
              "    </tr>\n",
              "    <tr>\n",
              "      <th>25</th>\n",
              "      <td>1985-01-01</td>\n",
              "      <td>296.435150</td>\n",
              "    </tr>\n",
              "    <tr>\n",
              "      <th>26</th>\n",
              "      <td>1986-01-01</td>\n",
              "      <td>310.465933</td>\n",
              "    </tr>\n",
              "    <tr>\n",
              "      <th>27</th>\n",
              "      <td>1987-01-01</td>\n",
              "      <td>340.416835</td>\n",
              "    </tr>\n",
              "    <tr>\n",
              "      <th>28</th>\n",
              "      <td>1988-01-01</td>\n",
              "      <td>354.149248</td>\n",
              "    </tr>\n",
              "    <tr>\n",
              "      <th>29</th>\n",
              "      <td>1989-01-01</td>\n",
              "      <td>346.112888</td>\n",
              "    </tr>\n",
              "    <tr>\n",
              "      <th>30</th>\n",
              "      <td>1990-01-01</td>\n",
              "      <td>367.556609</td>\n",
              "    </tr>\n",
              "    <tr>\n",
              "      <th>31</th>\n",
              "      <td>1991-01-01</td>\n",
              "      <td>303.055608</td>\n",
              "    </tr>\n",
              "    <tr>\n",
              "      <th>32</th>\n",
              "      <td>1992-01-01</td>\n",
              "      <td>316.953927</td>\n",
              "    </tr>\n",
              "    <tr>\n",
              "      <th>33</th>\n",
              "      <td>1993-01-01</td>\n",
              "      <td>301.159002</td>\n",
              "    </tr>\n",
              "    <tr>\n",
              "      <th>34</th>\n",
              "      <td>1994-01-01</td>\n",
              "      <td>346.102951</td>\n",
              "    </tr>\n",
              "    <tr>\n",
              "      <th>35</th>\n",
              "      <td>1995-01-01</td>\n",
              "      <td>373.766481</td>\n",
              "    </tr>\n",
              "    <tr>\n",
              "      <th>36</th>\n",
              "      <td>1996-01-01</td>\n",
              "      <td>399.950075</td>\n",
              "    </tr>\n",
              "    <tr>\n",
              "      <th>37</th>\n",
              "      <td>1997-01-01</td>\n",
              "      <td>415.493798</td>\n",
              "    </tr>\n",
              "    <tr>\n",
              "      <th>38</th>\n",
              "      <td>1998-01-01</td>\n",
              "      <td>413.298932</td>\n",
              "    </tr>\n",
              "    <tr>\n",
              "      <th>39</th>\n",
              "      <td>1999-01-01</td>\n",
              "      <td>441.998760</td>\n",
              "    </tr>\n",
              "    <tr>\n",
              "      <th>40</th>\n",
              "      <td>2000-01-01</td>\n",
              "      <td>443.314194</td>\n",
              "    </tr>\n",
              "    <tr>\n",
              "      <th>41</th>\n",
              "      <td>2001-01-01</td>\n",
              "      <td>451.572997</td>\n",
              "    </tr>\n",
              "    <tr>\n",
              "      <th>42</th>\n",
              "      <td>2002-01-01</td>\n",
              "      <td>470.986787</td>\n",
              "    </tr>\n",
              "    <tr>\n",
              "      <th>43</th>\n",
              "      <td>2003-01-01</td>\n",
              "      <td>546.726613</td>\n",
              "    </tr>\n",
              "    <tr>\n",
              "      <th>44</th>\n",
              "      <td>2004-01-01</td>\n",
              "      <td>627.774242</td>\n",
              "    </tr>\n",
              "    <tr>\n",
              "      <th>45</th>\n",
              "      <td>2005-01-01</td>\n",
              "      <td>714.861015</td>\n",
              "    </tr>\n",
              "    <tr>\n",
              "      <th>46</th>\n",
              "      <td>2006-01-01</td>\n",
              "      <td>806.753281</td>\n",
              "    </tr>\n",
              "    <tr>\n",
              "      <th>47</th>\n",
              "      <td>2007-01-01</td>\n",
              "      <td>1028.334772</td>\n",
              "    </tr>\n",
              "    <tr>\n",
              "      <th>48</th>\n",
              "      <td>2008-01-01</td>\n",
              "      <td>998.522342</td>\n",
              "    </tr>\n",
              "    <tr>\n",
              "      <th>49</th>\n",
              "      <td>2009-01-01</td>\n",
              "      <td>1101.960838</td>\n",
              "    </tr>\n",
              "    <tr>\n",
              "      <th>50</th>\n",
              "      <td>2010-01-01</td>\n",
              "      <td>1357.563727</td>\n",
              "    </tr>\n",
              "    <tr>\n",
              "      <th>51</th>\n",
              "      <td>2011-01-01</td>\n",
              "      <td>1458.104066</td>\n",
              "    </tr>\n",
              "    <tr>\n",
              "      <th>52</th>\n",
              "      <td>2012-01-01</td>\n",
              "      <td>1443.882435</td>\n",
              "    </tr>\n",
              "    <tr>\n",
              "      <th>53</th>\n",
              "      <td>2013-01-01</td>\n",
              "      <td>1449.610451</td>\n",
              "    </tr>\n",
              "    <tr>\n",
              "      <th>54</th>\n",
              "      <td>2014-01-01</td>\n",
              "      <td>1573.885642</td>\n",
              "    </tr>\n",
              "  </tbody>\n",
              "</table>\n",
              "</div>"
            ],
            "text/plain": [
              "           ds            y\n",
              "0  1960-01-01    82.188603\n",
              "1  1961-01-01    85.354301\n",
              "2  1962-01-01    89.881756\n",
              "3  1963-01-01   101.126429\n",
              "4  1964-01-01   115.537496\n",
              "5  1965-01-01   119.318916\n",
              "6  1966-01-01    89.997304\n",
              "7  1967-01-01    96.339136\n",
              "8  1968-01-01    99.875963\n",
              "9  1969-01-01   107.622318\n",
              "10 1970-01-01   112.434492\n",
              "11 1971-01-01   118.603241\n",
              "12 1972-01-01   122.981864\n",
              "13 1973-01-01   143.778688\n",
              "14 1974-01-01   163.478113\n",
              "15 1975-01-01   158.036171\n",
              "16 1976-01-01   161.092092\n",
              "17 1977-01-01   186.213504\n",
              "18 1978-01-01   205.693383\n",
              "19 1979-01-01   224.001019\n",
              "20 1980-01-01   266.577851\n",
              "21 1981-01-01   270.470601\n",
              "22 1982-01-01   274.111334\n",
              "23 1983-01-01   291.238110\n",
              "24 1984-01-01   276.667958\n",
              "25 1985-01-01   296.435150\n",
              "26 1986-01-01   310.465933\n",
              "27 1987-01-01   340.416835\n",
              "28 1988-01-01   354.149248\n",
              "29 1989-01-01   346.112888\n",
              "30 1990-01-01   367.556609\n",
              "31 1991-01-01   303.055608\n",
              "32 1992-01-01   316.953927\n",
              "33 1993-01-01   301.159002\n",
              "34 1994-01-01   346.102951\n",
              "35 1995-01-01   373.766481\n",
              "36 1996-01-01   399.950075\n",
              "37 1997-01-01   415.493798\n",
              "38 1998-01-01   413.298932\n",
              "39 1999-01-01   441.998760\n",
              "40 2000-01-01   443.314194\n",
              "41 2001-01-01   451.572997\n",
              "42 2002-01-01   470.986787\n",
              "43 2003-01-01   546.726613\n",
              "44 2004-01-01   627.774242\n",
              "45 2005-01-01   714.861015\n",
              "46 2006-01-01   806.753281\n",
              "47 2007-01-01  1028.334772\n",
              "48 2008-01-01   998.522342\n",
              "49 2009-01-01  1101.960838\n",
              "50 2010-01-01  1357.563727\n",
              "51 2011-01-01  1458.104066\n",
              "52 2012-01-01  1443.882435\n",
              "53 2013-01-01  1449.610451\n",
              "54 2014-01-01  1573.885642"
            ]
          },
          "metadata": {},
          "execution_count": 35
        }
      ]
    },
    {
      "cell_type": "code",
      "metadata": {
        "id": "WvUtCi04fgXW"
      },
      "source": [
        "model = fbprophet.Prophet(daily_seasonality=False,weekly_seasonality=False,yearly_seasonality=False,seasonality_mode='multiplicative',mcmc_samples=5000)"
      ],
      "execution_count": 69,
      "outputs": []
    },
    {
      "cell_type": "code",
      "metadata": {
        "colab": {
          "base_uri": "https://localhost:8080/"
        },
        "id": "fr6VL3F9fnI5",
        "outputId": "cc55e6fe-162d-4423-8964-4c69b408d60d"
      },
      "source": [
        "model.fit(train)"
      ],
      "execution_count": 70,
      "outputs": [
        {
          "output_type": "execute_result",
          "data": {
            "text/plain": [
              "<fbprophet.forecaster.Prophet at 0x7fe9d09b7d50>"
            ]
          },
          "metadata": {},
          "execution_count": 70
        }
      ]
    },
    {
      "cell_type": "code",
      "metadata": {
        "colab": {
          "base_uri": "https://localhost:8080/"
        },
        "id": "3HQns_XFfudE",
        "outputId": "163abfcc-ef37-48cb-f025-b560dffbfcd2"
      },
      "source": [
        "model.component_modes"
      ],
      "execution_count": 71,
      "outputs": [
        {
          "output_type": "execute_result",
          "data": {
            "text/plain": [
              "{'additive': ['additive_terms', 'extra_regressors_additive'],\n",
              " 'multiplicative': ['multiplicative_terms',\n",
              "  'extra_regressors_multiplicative',\n",
              "  'holidays']}"
            ]
          },
          "metadata": {},
          "execution_count": 71
        }
      ]
    },
    {
      "cell_type": "code",
      "metadata": {
        "id": "OaGgbsXLfuqa"
      },
      "source": [
        "future = model.make_future_dataframe(periods = 6,freq='Y')"
      ],
      "execution_count": 72,
      "outputs": []
    },
    {
      "cell_type": "code",
      "metadata": {
        "id": "MFrslqDChF5z"
      },
      "source": [
        "pred = model.predict(future)"
      ],
      "execution_count": 73,
      "outputs": []
    },
    {
      "cell_type": "code",
      "metadata": {
        "id": "r2TYXGJ4hJJ-"
      },
      "source": [
        "p = pred['yhat'][55:]"
      ],
      "execution_count": 74,
      "outputs": []
    },
    {
      "cell_type": "code",
      "metadata": {
        "colab": {
          "base_uri": "https://localhost:8080/"
        },
        "id": "s5alzAsEim9T",
        "outputId": "649aab30-6461-4c8d-ac71-b825acf0c506"
      },
      "source": [
        "mean_squared_error(p,data['y'][55:]),mean_absolute_error(p,data['y'][55:])"
      ],
      "execution_count": 75,
      "outputs": [
        {
          "output_type": "execute_result",
          "data": {
            "text/plain": [
              "(13126.643528251041, 94.90732055367835)"
            ]
          },
          "metadata": {},
          "execution_count": 75
        }
      ]
    },
    {
      "cell_type": "code",
      "metadata": {
        "colab": {
          "base_uri": "https://localhost:8080/",
          "height": 312
        },
        "id": "DC-2AixhjHy4",
        "outputId": "f60ec1c2-bafc-4f44-e7d6-48b3202edae1"
      },
      "source": [
        "pred.head()"
      ],
      "execution_count": 76,
      "outputs": [
        {
          "output_type": "execute_result",
          "data": {
            "text/html": [
              "<div>\n",
              "<style scoped>\n",
              "    .dataframe tbody tr th:only-of-type {\n",
              "        vertical-align: middle;\n",
              "    }\n",
              "\n",
              "    .dataframe tbody tr th {\n",
              "        vertical-align: top;\n",
              "    }\n",
              "\n",
              "    .dataframe thead th {\n",
              "        text-align: right;\n",
              "    }\n",
              "</style>\n",
              "<table border=\"1\" class=\"dataframe\">\n",
              "  <thead>\n",
              "    <tr style=\"text-align: right;\">\n",
              "      <th></th>\n",
              "      <th>ds</th>\n",
              "      <th>trend</th>\n",
              "      <th>yhat_lower</th>\n",
              "      <th>yhat_upper</th>\n",
              "      <th>trend_lower</th>\n",
              "      <th>trend_upper</th>\n",
              "      <th>additive_terms</th>\n",
              "      <th>additive_terms_lower</th>\n",
              "      <th>additive_terms_upper</th>\n",
              "      <th>multiplicative_terms</th>\n",
              "      <th>multiplicative_terms_lower</th>\n",
              "      <th>multiplicative_terms_upper</th>\n",
              "      <th>yhat</th>\n",
              "    </tr>\n",
              "  </thead>\n",
              "  <tbody>\n",
              "    <tr>\n",
              "      <th>0</th>\n",
              "      <td>1960-01-01</td>\n",
              "      <td>71.122869</td>\n",
              "      <td>9.367262</td>\n",
              "      <td>133.408103</td>\n",
              "      <td>43.283880</td>\n",
              "      <td>98.809199</td>\n",
              "      <td>0.0</td>\n",
              "      <td>0.0</td>\n",
              "      <td>0.0</td>\n",
              "      <td>0.0</td>\n",
              "      <td>0.0</td>\n",
              "      <td>0.0</td>\n",
              "      <td>71.122869</td>\n",
              "    </tr>\n",
              "    <tr>\n",
              "      <th>1</th>\n",
              "      <td>1961-01-01</td>\n",
              "      <td>76.416446</td>\n",
              "      <td>14.068091</td>\n",
              "      <td>138.794072</td>\n",
              "      <td>52.013855</td>\n",
              "      <td>100.707470</td>\n",
              "      <td>0.0</td>\n",
              "      <td>0.0</td>\n",
              "      <td>0.0</td>\n",
              "      <td>0.0</td>\n",
              "      <td>0.0</td>\n",
              "      <td>0.0</td>\n",
              "      <td>76.416446</td>\n",
              "    </tr>\n",
              "    <tr>\n",
              "      <th>2</th>\n",
              "      <td>1962-01-01</td>\n",
              "      <td>81.695561</td>\n",
              "      <td>21.737586</td>\n",
              "      <td>140.761917</td>\n",
              "      <td>60.296813</td>\n",
              "      <td>103.069591</td>\n",
              "      <td>0.0</td>\n",
              "      <td>0.0</td>\n",
              "      <td>0.0</td>\n",
              "      <td>0.0</td>\n",
              "      <td>0.0</td>\n",
              "      <td>0.0</td>\n",
              "      <td>81.695561</td>\n",
              "    </tr>\n",
              "    <tr>\n",
              "      <th>3</th>\n",
              "      <td>1963-01-01</td>\n",
              "      <td>87.062263</td>\n",
              "      <td>27.895211</td>\n",
              "      <td>145.457112</td>\n",
              "      <td>67.907607</td>\n",
              "      <td>106.277856</td>\n",
              "      <td>0.0</td>\n",
              "      <td>0.0</td>\n",
              "      <td>0.0</td>\n",
              "      <td>0.0</td>\n",
              "      <td>0.0</td>\n",
              "      <td>0.0</td>\n",
              "      <td>87.062263</td>\n",
              "    </tr>\n",
              "    <tr>\n",
              "      <th>4</th>\n",
              "      <td>1964-01-01</td>\n",
              "      <td>92.512208</td>\n",
              "      <td>35.624808</td>\n",
              "      <td>152.520161</td>\n",
              "      <td>75.401878</td>\n",
              "      <td>109.657915</td>\n",
              "      <td>0.0</td>\n",
              "      <td>0.0</td>\n",
              "      <td>0.0</td>\n",
              "      <td>0.0</td>\n",
              "      <td>0.0</td>\n",
              "      <td>0.0</td>\n",
              "      <td>92.512208</td>\n",
              "    </tr>\n",
              "  </tbody>\n",
              "</table>\n",
              "</div>"
            ],
            "text/plain": [
              "          ds      trend  ...  multiplicative_terms_upper       yhat\n",
              "0 1960-01-01  71.122869  ...                         0.0  71.122869\n",
              "1 1961-01-01  76.416446  ...                         0.0  76.416446\n",
              "2 1962-01-01  81.695561  ...                         0.0  81.695561\n",
              "3 1963-01-01  87.062263  ...                         0.0  87.062263\n",
              "4 1964-01-01  92.512208  ...                         0.0  92.512208\n",
              "\n",
              "[5 rows x 13 columns]"
            ]
          },
          "metadata": {},
          "execution_count": 76
        }
      ]
    },
    {
      "cell_type": "code",
      "metadata": {
        "colab": {
          "base_uri": "https://localhost:8080/",
          "height": 865
        },
        "id": "qYzgcpD0ljiT",
        "outputId": "522773ef-b135-4c23-e9e1-b096d5f6a636"
      },
      "source": [
        "model.plot(pred)"
      ],
      "execution_count": 77,
      "outputs": [
        {
          "output_type": "execute_result",
          "data": {
            "image/png": "[encoded data removed]",
            "text/plain": [
              "<Figure size 720x432 with 1 Axes>"
            ]
          },
          "metadata": {},
          "execution_count": 77
        },
        {
          "output_type": "display_data",
          "data": {
            "image/png": "[encoded data removed]",
            "text/plain": [
              "<Figure size 720x432 with 1 Axes>"
            ]
          },
          "metadata": {}
        }
      ]
    },
    {
      "cell_type": "code",
      "metadata": {
        "id": "F9W_dBy1nrQe"
      },
      "source": [
        "test =data['y'][55:]"
      ],
      "execution_count": 78,
      "outputs": []
    },
    {
      "cell_type": "code",
      "metadata": {
        "colab": {
          "base_uri": "https://localhost:8080/",
          "height": 283
        },
        "id": "LyAzfVXHoHKm",
        "outputId": "be62814b-be58-4452-e84f-2a3ebe2f8248"
      },
      "source": [
        "plt.plot(data['ds'],data['y'])\n",
        "plt.plot(data['ds'],pred.yhat)"
      ],
      "execution_count": 79,
      "outputs": [
        {
          "output_type": "execute_result",
          "data": {
            "text/plain": [
              "[<matplotlib.lines.Line2D at 0x7fe9d3582910>]"
            ]
          },
          "metadata": {},
          "execution_count": 79
        },
        {
          "output_type": "display_data",
          "data": {
            "image/png": "[encoded data removed]",
            "text/plain": [
              "<Figure size 432x288 with 1 Axes>"
            ]
          },
          "metadata": {
            "needs_background": "light"
          }
        }
      ]
    },
    {
      "cell_type": "code",
      "metadata": {
        "id": "lrAznVvxoO3_"
      },
      "source": [
        ""
      ],
      "execution_count": 79,
      "outputs": []
    }
  ]
}