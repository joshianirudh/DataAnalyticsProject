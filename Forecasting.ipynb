{
 "cells": [
  {
   "cell_type": "markdown",
   "metadata": {},
   "source": [
    "# Forecasting Models\n",
    "\n",
    "ARIMA\n",
    "SLR\n",
    "Lasso\n",
    "FBProphet[In a different notebook]"
   ]
  },
  {
   "cell_type": "code",
   "execution_count": 274,
   "metadata": {
    "scrolled": false
   },
   "outputs": [],
   "source": [
    "import pandas as pd\n",
    "import numpy as np\n",
    "from statsmodels.graphics.tsaplots import plot_acf,plot_pacf\n",
    "from statsmodels.tsa.arima_model import ARIMA\n",
    "from statsmodels.tsa.stattools import adfuller\n",
    "import pyflux as pf\n",
    "from statsmodels.tsa.stattools import acf,pacf\n",
    "import matplotlib.pyplot as plt\n",
    "import seaborn as sns\n",
    "from sklearn.linear_model import LinearRegression\n",
    "from sklearn.linear_model import Lasso\n",
    "from sklearn.metrics import *\n",
    "from sklearn.model_selection import train_test_split"
   ]
  },
  {
   "cell_type": "code",
   "execution_count": 6,
   "metadata": {},
   "outputs": [],
   "source": [
    "df = pd.read_csv('final.csv')"
   ]
  },
  {
   "cell_type": "code",
   "execution_count": 7,
   "metadata": {
    "scrolled": true
   },
   "outputs": [
    {
     "data": {
      "text/html": [
       "<div>\n",
       "<style scoped>\n",
       "    .dataframe tbody tr th:only-of-type {\n",
       "        vertical-align: middle;\n",
       "    }\n",
       "\n",
       "    .dataframe tbody tr th {\n",
       "        vertical-align: top;\n",
       "    }\n",
       "\n",
       "    .dataframe thead th {\n",
       "        text-align: right;\n",
       "    }\n",
       "</style>\n",
       "<table border=\"1\" class=\"dataframe\">\n",
       "  <thead>\n",
       "    <tr style=\"text-align: right;\">\n",
       "      <th></th>\n",
       "      <th>Unnamed: 0</th>\n",
       "      <th>Age dependency ratio (% of working-age population)</th>\n",
       "      <th>Agriculture, forestry, and fishing, value added (% of GDP)</th>\n",
       "      <th>Agriculture, forestry, and fishing, value added (current US$)</th>\n",
       "      <th>Arms imports (SIPRI trend indicator values)</th>\n",
       "      <th>Broad money (% of GDP)</th>\n",
       "      <th>Broad money to total reserves ratio</th>\n",
       "      <th>Changes in inventories (current US$)</th>\n",
       "      <th>Claims on central government, etc. (% GDP)</th>\n",
       "      <th>Consumer price index (2010 = 100)</th>\n",
       "      <th>...</th>\n",
       "      <th>Population, total</th>\n",
       "      <th>Rural population</th>\n",
       "      <th>Rural population (% of total population)</th>\n",
       "      <th>Services, value added (% of GDP)</th>\n",
       "      <th>Taxes less subsidies on products (current US$)</th>\n",
       "      <th>Total reserves (includes gold, current US$)</th>\n",
       "      <th>Total reserves minus gold (current US$)</th>\n",
       "      <th>Trade (% of GDP)</th>\n",
       "      <th>Urban population</th>\n",
       "      <th>Urban population (% of total population)</th>\n",
       "    </tr>\n",
       "  </thead>\n",
       "  <tbody>\n",
       "    <tr>\n",
       "      <th>0</th>\n",
       "      <td>1960 [YR1960]</td>\n",
       "      <td>76.999045</td>\n",
       "      <td>41.312839</td>\n",
       "      <td>1.529810e+10</td>\n",
       "      <td>5.440000e+08</td>\n",
       "      <td>22.071925</td>\n",
       "      <td>12.116774</td>\n",
       "      <td>4.571559e+08</td>\n",
       "      <td>15.000062</td>\n",
       "      <td>2.527487</td>\n",
       "      <td>...</td>\n",
       "      <td>450547675.0</td>\n",
       "      <td>369791510.0</td>\n",
       "      <td>82.076</td>\n",
       "      <td>38.782462</td>\n",
       "      <td>2.035209e+09</td>\n",
       "      <td>6.745366e+08</td>\n",
       "      <td>423000000.0</td>\n",
       "      <td>11.296833</td>\n",
       "      <td>80756165.0</td>\n",
       "      <td>17.924</td>\n",
       "    </tr>\n",
       "    <tr>\n",
       "      <th>1</th>\n",
       "      <td>1961 [YR1961]</td>\n",
       "      <td>78.007106</td>\n",
       "      <td>40.387402</td>\n",
       "      <td>1.584496e+10</td>\n",
       "      <td>1.122000e+09</td>\n",
       "      <td>21.501873</td>\n",
       "      <td>12.659441</td>\n",
       "      <td>-3.809357e+08</td>\n",
       "      <td>14.725330</td>\n",
       "      <td>2.570333</td>\n",
       "      <td>...</td>\n",
       "      <td>459642166.0</td>\n",
       "      <td>376759491.0</td>\n",
       "      <td>81.968</td>\n",
       "      <td>38.325875</td>\n",
       "      <td>2.303808e+09</td>\n",
       "      <td>6.663571e+08</td>\n",
       "      <td>418000000.0</td>\n",
       "      <td>10.261163</td>\n",
       "      <td>82882675.0</td>\n",
       "      <td>18.032</td>\n",
       "    </tr>\n",
       "    <tr>\n",
       "      <th>2</th>\n",
       "      <td>1962 [YR1962]</td>\n",
       "      <td>79.187531</td>\n",
       "      <td>38.371335</td>\n",
       "      <td>1.617792e+10</td>\n",
       "      <td>3.710000e+08</td>\n",
       "      <td>21.930703</td>\n",
       "      <td>18.031311</td>\n",
       "      <td>1.965947e+08</td>\n",
       "      <td>15.186626</td>\n",
       "      <td>2.663693</td>\n",
       "      <td>...</td>\n",
       "      <td>469077191.0</td>\n",
       "      <td>383620708.0</td>\n",
       "      <td>81.782</td>\n",
       "      <td>39.935845</td>\n",
       "      <td>2.674898e+09</td>\n",
       "      <td>5.127918e+08</td>\n",
       "      <td>265000000.0</td>\n",
       "      <td>10.200790</td>\n",
       "      <td>85456483.0</td>\n",
       "      <td>18.218</td>\n",
       "    </tr>\n",
       "    <tr>\n",
       "      <th>3</th>\n",
       "      <td>1963 [YR1963]</td>\n",
       "      <td>80.304725</td>\n",
       "      <td>39.319751</td>\n",
       "      <td>1.903938e+10</td>\n",
       "      <td>6.470000e+08</td>\n",
       "      <td>21.116283</td>\n",
       "      <td>16.821091</td>\n",
       "      <td>-3.076154e+08</td>\n",
       "      <td>14.641317</td>\n",
       "      <td>2.742170</td>\n",
       "      <td>...</td>\n",
       "      <td>478825602.0</td>\n",
       "      <td>390697750.0</td>\n",
       "      <td>81.595</td>\n",
       "      <td>38.095180</td>\n",
       "      <td>3.294071e+09</td>\n",
       "      <td>6.078625e+08</td>\n",
       "      <td>360000000.0</td>\n",
       "      <td>10.187338</td>\n",
       "      <td>88127852.0</td>\n",
       "      <td>18.405</td>\n",
       "    </tr>\n",
       "    <tr>\n",
       "      <th>4</th>\n",
       "      <td>1964 [YR1964]</td>\n",
       "      <td>80.998952</td>\n",
       "      <td>41.187738</td>\n",
       "      <td>2.326295e+10</td>\n",
       "      <td>9.200000e+08</td>\n",
       "      <td>19.806398</td>\n",
       "      <td>22.411741</td>\n",
       "      <td>-2.171540e+08</td>\n",
       "      <td>13.448422</td>\n",
       "      <td>3.108394</td>\n",
       "      <td>...</td>\n",
       "      <td>488848139.0</td>\n",
       "      <td>397946828.0</td>\n",
       "      <td>81.405</td>\n",
       "      <td>36.340821</td>\n",
       "      <td>3.758864e+09</td>\n",
       "      <td>4.991451e+08</td>\n",
       "      <td>251000000.0</td>\n",
       "      <td>9.410549</td>\n",
       "      <td>90901311.0</td>\n",
       "      <td>18.595</td>\n",
       "    </tr>\n",
       "  </tbody>\n",
       "</table>\n",
       "<p>5 rows × 68 columns</p>\n",
       "</div>"
      ],
      "text/plain": [
       "      Unnamed: 0  Age dependency ratio (% of working-age population)  \\\n",
       "0  1960 [YR1960]                                          76.999045    \n",
       "1  1961 [YR1961]                                          78.007106    \n",
       "2  1962 [YR1962]                                          79.187531    \n",
       "3  1963 [YR1963]                                          80.304725    \n",
       "4  1964 [YR1964]                                          80.998952    \n",
       "\n",
       "   Agriculture, forestry, and fishing, value added (% of GDP)  \\\n",
       "0                                          41.312839            \n",
       "1                                          40.387402            \n",
       "2                                          38.371335            \n",
       "3                                          39.319751            \n",
       "4                                          41.187738            \n",
       "\n",
       "   Agriculture, forestry, and fishing, value added (current US$)  \\\n",
       "0                                       1.529810e+10               \n",
       "1                                       1.584496e+10               \n",
       "2                                       1.617792e+10               \n",
       "3                                       1.903938e+10               \n",
       "4                                       2.326295e+10               \n",
       "\n",
       "   Arms imports (SIPRI trend indicator values)  Broad money (% of GDP)  \\\n",
       "0                                 5.440000e+08               22.071925   \n",
       "1                                 1.122000e+09               21.501873   \n",
       "2                                 3.710000e+08               21.930703   \n",
       "3                                 6.470000e+08               21.116283   \n",
       "4                                 9.200000e+08               19.806398   \n",
       "\n",
       "   Broad money to total reserves ratio  Changes in inventories (current US$)  \\\n",
       "0                            12.116774                          4.571559e+08   \n",
       "1                            12.659441                         -3.809357e+08   \n",
       "2                            18.031311                          1.965947e+08   \n",
       "3                            16.821091                         -3.076154e+08   \n",
       "4                            22.411741                         -2.171540e+08   \n",
       "\n",
       "   Claims on central government, etc. (% GDP)  \\\n",
       "0                                   15.000062   \n",
       "1                                   14.725330   \n",
       "2                                   15.186626   \n",
       "3                                   14.641317   \n",
       "4                                   13.448422   \n",
       "\n",
       "   Consumer price index (2010 = 100)  ...  Population, total  \\\n",
       "0                           2.527487  ...        450547675.0   \n",
       "1                           2.570333  ...        459642166.0   \n",
       "2                           2.663693  ...        469077191.0   \n",
       "3                           2.742170  ...        478825602.0   \n",
       "4                           3.108394  ...        488848139.0   \n",
       "\n",
       "   Rural population  Rural population (% of total population)  \\\n",
       "0       369791510.0                                    82.076   \n",
       "1       376759491.0                                    81.968   \n",
       "2       383620708.0                                    81.782   \n",
       "3       390697750.0                                    81.595   \n",
       "4       397946828.0                                    81.405   \n",
       "\n",
       "   Services, value added (% of GDP)  \\\n",
       "0                         38.782462   \n",
       "1                         38.325875   \n",
       "2                         39.935845   \n",
       "3                         38.095180   \n",
       "4                         36.340821   \n",
       "\n",
       "   Taxes less subsidies on products (current US$)  \\\n",
       "0                                    2.035209e+09   \n",
       "1                                    2.303808e+09   \n",
       "2                                    2.674898e+09   \n",
       "3                                    3.294071e+09   \n",
       "4                                    3.758864e+09   \n",
       "\n",
       "   Total reserves (includes gold, current US$)  \\\n",
       "0                                 6.745366e+08   \n",
       "1                                 6.663571e+08   \n",
       "2                                 5.127918e+08   \n",
       "3                                 6.078625e+08   \n",
       "4                                 4.991451e+08   \n",
       "\n",
       "   Total reserves minus gold (current US$)  Trade (% of GDP)  \\\n",
       "0                              423000000.0         11.296833   \n",
       "1                              418000000.0         10.261163   \n",
       "2                              265000000.0         10.200790   \n",
       "3                              360000000.0         10.187338   \n",
       "4                              251000000.0          9.410549   \n",
       "\n",
       "   Urban population  Urban population (% of total population)  \n",
       "0        80756165.0                                    17.924  \n",
       "1        82882675.0                                    18.032  \n",
       "2        85456483.0                                    18.218  \n",
       "3        88127852.0                                    18.405  \n",
       "4        90901311.0                                    18.595  \n",
       "\n",
       "[5 rows x 68 columns]"
      ]
     },
     "execution_count": 7,
     "metadata": {},
     "output_type": "execute_result"
    }
   ],
   "source": [
    "df.head()"
   ]
  },
  {
   "cell_type": "raw",
   "metadata": {},
   "source": [
    "Convert column to datetime and rename to year"
   ]
  },
  {
   "cell_type": "code",
   "execution_count": 8,
   "metadata": {},
   "outputs": [],
   "source": [
    "df = df.rename({'Unnamed: 0':'year'},axis = 1)"
   ]
  },
  {
   "cell_type": "code",
   "execution_count": 9,
   "metadata": {
    "scrolled": true
   },
   "outputs": [
    {
     "data": {
      "text/plain": [
       "year                                                              object\n",
       "Age dependency ratio (% of working-age population)               float64\n",
       "Agriculture, forestry, and fishing, value added (% of GDP)       float64\n",
       "Agriculture, forestry, and fishing, value added (current US$)    float64\n",
       "Arms imports (SIPRI trend indicator values)                      float64\n",
       "                                                                  ...   \n",
       "Total reserves (includes gold, current US$)                      float64\n",
       "Total reserves minus gold (current US$)                          float64\n",
       "Trade (% of GDP)                                                 float64\n",
       "Urban population                                                 float64\n",
       "Urban population (% of total population)                         float64\n",
       "Length: 68, dtype: object"
      ]
     },
     "execution_count": 9,
     "metadata": {},
     "output_type": "execute_result"
    }
   ],
   "source": [
    "df.dtypes"
   ]
  },
  {
   "cell_type": "code",
   "execution_count": 10,
   "metadata": {},
   "outputs": [
    {
     "data": {
      "text/plain": [
       "'1960 [YR1960]'"
      ]
     },
     "execution_count": 10,
     "metadata": {},
     "output_type": "execute_result"
    }
   ],
   "source": [
    "df.year[0]"
   ]
  },
  {
   "cell_type": "code",
   "execution_count": 11,
   "metadata": {},
   "outputs": [],
   "source": [
    "year = []\n",
    "for i in df.year:\n",
    "     year.append(i.split(' ')[0])\n",
    "df.year = year"
   ]
  },
  {
   "cell_type": "code",
   "execution_count": 12,
   "metadata": {},
   "outputs": [
    {
     "data": {
      "text/plain": [
       "0     1960\n",
       "1     1961\n",
       "2     1962\n",
       "3     1963\n",
       "4     1964\n",
       "      ... \n",
       "56    2016\n",
       "57    2017\n",
       "58    2018\n",
       "59    2019\n",
       "60    2020\n",
       "Name: year, Length: 61, dtype: object"
      ]
     },
     "execution_count": 12,
     "metadata": {},
     "output_type": "execute_result"
    }
   ],
   "source": [
    "df.year"
   ]
  },
  {
   "cell_type": "code",
   "execution_count": 13,
   "metadata": {},
   "outputs": [],
   "source": [
    "df['year'] = pd.to_datetime(df['year'],dayfirst=True)"
   ]
  },
  {
   "cell_type": "code",
   "execution_count": 14,
   "metadata": {},
   "outputs": [],
   "source": [
    "columns = list(df.columns)"
   ]
  },
  {
   "cell_type": "raw",
   "metadata": {},
   "source": [
    "Dickey-Fuller"
   ]
  },
  {
   "cell_type": "code",
   "execution_count": 275,
   "metadata": {},
   "outputs": [],
   "source": [
    "def adfTest(dataframe, column_name):\n",
    "    result = adfuller(dataframe[column_name])\n",
    "    print(i)\n",
    "    print('ADF Statistic: %f' % result[0])\n",
    "    print('p-value: %f' % result[1])\n",
    "    if result[0] < result[4][\"5%\"]:\n",
    "        print (\"Reject Ho - Time Series is Stationary\")\n",
    "    else:\n",
    "        print (\"Failed to Reject Ho - Time Series is Non-Stationary\")\n",
    "    print('\\n')"
   ]
  },
  {
   "cell_type": "code",
   "execution_count": 276,
   "metadata": {},
   "outputs": [
    {
     "name": "stdout",
     "output_type": "stream",
     "text": [
      "Age dependency ratio (% of working-age population)\n",
      "ADF Statistic: 1.612859\n",
      "p-value: 0.997896\n",
      "Failed to Reject Ho - Time Series is Non-Stationary\n",
      "\n",
      "\n",
      "Agriculture, forestry, and fishing, value added (% of GDP)\n",
      "ADF Statistic: -0.730862\n",
      "p-value: 0.838593\n",
      "Failed to Reject Ho - Time Series is Non-Stationary\n",
      "\n",
      "\n",
      "Agriculture, forestry, and fishing, value added (current US$)\n",
      "ADF Statistic: 4.150069\n",
      "p-value: 1.000000\n",
      "Failed to Reject Ho - Time Series is Non-Stationary\n",
      "\n",
      "\n",
      "Arms imports (SIPRI trend indicator values)\n",
      "ADF Statistic: -2.674592\n",
      "p-value: 0.078539\n",
      "Failed to Reject Ho - Time Series is Non-Stationary\n",
      "\n",
      "\n",
      "Broad money (% of GDP)\n",
      "ADF Statistic: 0.868799\n",
      "p-value: 0.992669\n",
      "Failed to Reject Ho - Time Series is Non-Stationary\n",
      "\n",
      "\n",
      "Broad money to total reserves ratio\n",
      "ADF Statistic: -2.442009\n",
      "p-value: 0.130229\n",
      "Failed to Reject Ho - Time Series is Non-Stationary\n",
      "\n",
      "\n",
      "Changes in inventories (current US$)\n",
      "ADF Statistic: -1.159013\n",
      "p-value: 0.690974\n",
      "Failed to Reject Ho - Time Series is Non-Stationary\n",
      "\n",
      "\n",
      "Claims on central government, etc. (% GDP)\n",
      "ADF Statistic: -0.914679\n",
      "p-value: 0.783100\n",
      "Failed to Reject Ho - Time Series is Non-Stationary\n",
      "\n",
      "\n",
      "Consumer price index (2010 = 100)\n",
      "ADF Statistic: 6.007442\n",
      "p-value: 1.000000\n",
      "Failed to Reject Ho - Time Series is Non-Stationary\n",
      "\n",
      "\n",
      "Domestic credit to private sector (% of GDP)\n",
      "ADF Statistic: 2.474185\n",
      "p-value: 0.999041\n",
      "Failed to Reject Ho - Time Series is Non-Stationary\n",
      "\n",
      "\n",
      "Domestic credit to private sector by banks (% of GDP)\n",
      "ADF Statistic: 2.474185\n",
      "p-value: 0.999041\n",
      "Failed to Reject Ho - Time Series is Non-Stationary\n",
      "\n",
      "\n",
      "Exports of goods and services (% of GDP)\n",
      "ADF Statistic: -0.558920\n",
      "p-value: 0.879997\n",
      "Failed to Reject Ho - Time Series is Non-Stationary\n",
      "\n",
      "\n",
      "Exports of goods and services (current US$)\n",
      "ADF Statistic: 4.897224\n",
      "p-value: 1.000000\n",
      "Failed to Reject Ho - Time Series is Non-Stationary\n",
      "\n",
      "\n",
      "External balance on goods and services (% of GDP)\n",
      "ADF Statistic: -2.318267\n",
      "p-value: 0.166144\n",
      "Failed to Reject Ho - Time Series is Non-Stationary\n",
      "\n",
      "\n",
      "External balance on goods and services (current US$)\n",
      "ADF Statistic: 3.053706\n",
      "p-value: 1.000000\n",
      "Failed to Reject Ho - Time Series is Non-Stationary\n",
      "\n",
      "\n",
      "Final consumption expenditure (% of GDP)\n",
      "ADF Statistic: -1.341797\n",
      "p-value: 0.609840\n",
      "Failed to Reject Ho - Time Series is Non-Stationary\n",
      "\n",
      "\n",
      "Final consumption expenditure (current US$)\n",
      "ADF Statistic: 0.832114\n",
      "p-value: 0.992137\n",
      "Failed to Reject Ho - Time Series is Non-Stationary\n",
      "\n",
      "\n",
      "Fixed telephone subscriptions\n",
      "ADF Statistic: -1.870043\n",
      "p-value: 0.346282\n",
      "Failed to Reject Ho - Time Series is Non-Stationary\n",
      "\n",
      "\n",
      "Fixed telephone subscriptions (per 100 people)\n",
      "ADF Statistic: -2.018148\n",
      "p-value: 0.278673\n",
      "Failed to Reject Ho - Time Series is Non-Stationary\n",
      "\n",
      "\n",
      "GDP (current US$)\n",
      "ADF Statistic: -1.004009\n",
      "p-value: 0.751799\n",
      "Failed to Reject Ho - Time Series is Non-Stationary\n",
      "\n",
      "\n",
      "GDP deflator (base year varies by country)\n",
      "ADF Statistic: 3.022782\n",
      "p-value: 1.000000\n",
      "Failed to Reject Ho - Time Series is Non-Stationary\n",
      "\n",
      "\n",
      "GDP per capita (current US$)\n",
      "ADF Statistic: 2.232900\n",
      "p-value: 0.998909\n",
      "Failed to Reject Ho - Time Series is Non-Stationary\n",
      "\n",
      "\n",
      "General government final consumption expenditure (% of GDP)\n",
      "ADF Statistic: -2.279765\n",
      "p-value: 0.178577\n",
      "Failed to Reject Ho - Time Series is Non-Stationary\n",
      "\n",
      "\n",
      "General government final consumption expenditure (current US$)\n",
      "ADF Statistic: 1.265342\n",
      "p-value: 0.996408\n",
      "Failed to Reject Ho - Time Series is Non-Stationary\n",
      "\n",
      "\n",
      "GNI (current US$)\n",
      "ADF Statistic: -0.836348\n",
      "p-value: 0.808211\n",
      "Failed to Reject Ho - Time Series is Non-Stationary\n",
      "\n",
      "\n",
      "Gross capital formation (% of GDP)\n",
      "ADF Statistic: -1.392066\n",
      "p-value: 0.586074\n",
      "Failed to Reject Ho - Time Series is Non-Stationary\n",
      "\n",
      "\n",
      "Gross capital formation (current US$)\n",
      "ADF Statistic: -1.150905\n",
      "p-value: 0.694351\n",
      "Failed to Reject Ho - Time Series is Non-Stationary\n",
      "\n",
      "\n",
      "Gross domestic savings (% of GDP)\n",
      "ADF Statistic: -1.341797\n",
      "p-value: 0.609840\n",
      "Failed to Reject Ho - Time Series is Non-Stationary\n",
      "\n",
      "\n",
      "Gross domestic savings (current US$)\n",
      "ADF Statistic: 1.020292\n",
      "p-value: 0.994476\n",
      "Failed to Reject Ho - Time Series is Non-Stationary\n",
      "\n",
      "\n",
      "Gross fixed capital formation (% of GDP)\n",
      "ADF Statistic: -1.465477\n",
      "p-value: 0.550515\n",
      "Failed to Reject Ho - Time Series is Non-Stationary\n",
      "\n",
      "\n",
      "Gross fixed capital formation (current US$)\n",
      "ADF Statistic: 1.323607\n",
      "p-value: 0.996738\n",
      "Failed to Reject Ho - Time Series is Non-Stationary\n",
      "\n",
      "\n",
      "Gross national expenditure (% of GDP)\n",
      "ADF Statistic: -2.881249\n",
      "p-value: 0.047572\n",
      "Failed to Reject Ho - Time Series is Non-Stationary\n",
      "\n",
      "\n",
      "Gross national expenditure (current US$)\n",
      "ADF Statistic: -0.601558\n",
      "p-value: 0.870630\n",
      "Failed to Reject Ho - Time Series is Non-Stationary\n",
      "\n",
      "\n",
      "Gross national expenditure deflator (base year varies by country)\n",
      "ADF Statistic: 2.291576\n",
      "p-value: 0.998950\n",
      "Failed to Reject Ho - Time Series is Non-Stationary\n",
      "\n",
      "\n",
      "Gross value added at basic prices (GVA) (current US$)\n",
      "ADF Statistic: -1.242974\n",
      "p-value: 0.654842\n",
      "Failed to Reject Ho - Time Series is Non-Stationary\n",
      "\n",
      "\n",
      "Households and NPISHs final consumption expenditure (% of GDP)\n",
      "ADF Statistic: -1.072058\n",
      "p-value: 0.726085\n",
      "Failed to Reject Ho - Time Series is Non-Stationary\n",
      "\n",
      "\n",
      "Households and NPISHs Final consumption expenditure (current US$)\n",
      "ADF Statistic: -1.232226\n",
      "p-value: 0.659581\n",
      "Failed to Reject Ho - Time Series is Non-Stationary\n",
      "\n",
      "\n",
      "Imports of goods and services (% of GDP)\n",
      "ADF Statistic: -2.017948\n",
      "p-value: 0.278759\n",
      "Failed to Reject Ho - Time Series is Non-Stationary\n",
      "\n",
      "\n",
      "Imports of goods and services (current US$)\n",
      "ADF Statistic: 4.398585\n",
      "p-value: 1.000000\n",
      "Failed to Reject Ho - Time Series is Non-Stationary\n",
      "\n",
      "\n",
      "Industry (including construction), value added (% of GDP)\n",
      "ADF Statistic: -1.308099\n",
      "p-value: 0.625459\n",
      "Failed to Reject Ho - Time Series is Non-Stationary\n",
      "\n",
      "\n",
      "Industry (including construction), value added (current US$)\n",
      "ADF Statistic: -2.560747\n",
      "p-value: 0.101384\n",
      "Failed to Reject Ho - Time Series is Non-Stationary\n",
      "\n",
      "\n",
      "Inflation, consumer prices (annual %)\n",
      "ADF Statistic: -4.852216\n",
      "p-value: 0.000043\n",
      "Reject Ho - Time Series is Stationary\n",
      "\n",
      "\n",
      "Manufacturing, value added (% of GDP)\n",
      "ADF Statistic: -1.611477\n",
      "p-value: 0.477200\n",
      "Failed to Reject Ho - Time Series is Non-Stationary\n",
      "\n",
      "\n",
      "Manufacturing, value added (current US$)\n",
      "ADF Statistic: -2.033260\n",
      "p-value: 0.272183\n",
      "Failed to Reject Ho - Time Series is Non-Stationary\n",
      "\n",
      "\n",
      "Merchandise exports (current US$)\n",
      "ADF Statistic: 4.594031\n",
      "p-value: 1.000000\n",
      "Failed to Reject Ho - Time Series is Non-Stationary\n",
      "\n",
      "\n",
      "Merchandise imports (current US$)\n",
      "ADF Statistic: 4.299656\n",
      "p-value: 1.000000\n",
      "Failed to Reject Ho - Time Series is Non-Stationary\n",
      "\n",
      "\n",
      "Merchandise trade (% of GDP)\n",
      "ADF Statistic: -1.148846\n",
      "p-value: 0.695205\n",
      "Failed to Reject Ho - Time Series is Non-Stationary\n",
      "\n",
      "\n",
      "Military expenditure (% of GDP)\n",
      "ADF Statistic: -2.686511\n",
      "p-value: 0.076402\n",
      "Failed to Reject Ho - Time Series is Non-Stationary\n",
      "\n",
      "\n",
      "Military expenditure (current USD)\n",
      "ADF Statistic: 3.038163\n",
      "p-value: 1.000000\n",
      "Failed to Reject Ho - Time Series is Non-Stationary\n",
      "\n",
      "\n",
      "Monetary Sector credit to private sector (% GDP)\n",
      "ADF Statistic: 2.474185\n",
      "p-value: 0.999041\n",
      "Failed to Reject Ho - Time Series is Non-Stationary\n",
      "\n",
      "\n",
      "Net primary income (Net income from abroad) (current US$)\n",
      "ADF Statistic: 0.647187\n",
      "p-value: 0.988723\n",
      "Failed to Reject Ho - Time Series is Non-Stationary\n",
      "\n",
      "\n",
      "Population ages 0-14, total\n",
      "ADF Statistic: -2.058198\n",
      "p-value: 0.261652\n",
      "Failed to Reject Ho - Time Series is Non-Stationary\n",
      "\n",
      "\n",
      "Population ages 15-64 (% of total population)\n",
      "ADF Statistic: 1.550220\n",
      "p-value: 0.997700\n",
      "Failed to Reject Ho - Time Series is Non-Stationary\n",
      "\n",
      "\n",
      "Population, female\n",
      "ADF Statistic: -1.309660\n",
      "p-value: 0.624741\n",
      "Failed to Reject Ho - Time Series is Non-Stationary\n",
      "\n",
      "\n",
      "Population, female (% of total population)\n",
      "ADF Statistic: -3.189011\n",
      "p-value: 0.020630\n",
      "Reject Ho - Time Series is Stationary\n",
      "\n",
      "\n",
      "Population, male\n",
      "ADF Statistic: -0.807232\n",
      "p-value: 0.816989\n",
      "Failed to Reject Ho - Time Series is Non-Stationary\n",
      "\n",
      "\n",
      "Population, male (% of total population)\n",
      "ADF Statistic: -3.189011\n",
      "p-value: 0.020630\n",
      "Reject Ho - Time Series is Stationary\n",
      "\n",
      "\n",
      "Population, total\n",
      "ADF Statistic: -1.043953\n",
      "p-value: 0.736898\n",
      "Failed to Reject Ho - Time Series is Non-Stationary\n",
      "\n",
      "\n",
      "Rural population\n",
      "ADF Statistic: -3.978481\n",
      "p-value: 0.001527\n",
      "Reject Ho - Time Series is Stationary\n",
      "\n",
      "\n",
      "Rural population (% of total population)\n",
      "ADF Statistic: 1.471661\n",
      "p-value: 0.997417\n",
      "Failed to Reject Ho - Time Series is Non-Stationary\n",
      "\n",
      "\n"
     ]
    },
    {
     "name": "stdout",
     "output_type": "stream",
     "text": [
      "Services, value added (% of GDP)\n",
      "ADF Statistic: 0.488221\n",
      "p-value: 0.984511\n",
      "Failed to Reject Ho - Time Series is Non-Stationary\n",
      "\n",
      "\n",
      "Taxes less subsidies on products (current US$)\n",
      "ADF Statistic: 2.511680\n",
      "p-value: 0.999054\n",
      "Failed to Reject Ho - Time Series is Non-Stationary\n",
      "\n",
      "\n",
      "Total reserves (includes gold, current US$)\n",
      "ADF Statistic: 4.328679\n",
      "p-value: 1.000000\n",
      "Failed to Reject Ho - Time Series is Non-Stationary\n",
      "\n",
      "\n",
      "Total reserves minus gold (current US$)\n",
      "ADF Statistic: 4.463072\n",
      "p-value: 1.000000\n",
      "Failed to Reject Ho - Time Series is Non-Stationary\n",
      "\n",
      "\n",
      "Trade (% of GDP)\n",
      "ADF Statistic: -0.641230\n",
      "p-value: 0.861391\n",
      "Failed to Reject Ho - Time Series is Non-Stationary\n",
      "\n",
      "\n",
      "Urban population\n",
      "ADF Statistic: 1.774073\n",
      "p-value: 0.998296\n",
      "Failed to Reject Ho - Time Series is Non-Stationary\n",
      "\n",
      "\n",
      "Urban population (% of total population)\n",
      "ADF Statistic: 1.471661\n",
      "p-value: 0.997417\n",
      "Failed to Reject Ho - Time Series is Non-Stationary\n",
      "\n",
      "\n"
     ]
    }
   ],
   "source": [
    "for i in columns[1:]:\n",
    "    adfTest(df, i)"
   ]
  },
  {
   "cell_type": "raw",
   "metadata": {},
   "source": [
    "None of the columns are stationary!"
   ]
  },
  {
   "cell_type": "markdown",
   "metadata": {},
   "source": [
    "# Time-Series Models"
   ]
  },
  {
   "cell_type": "markdown",
   "metadata": {},
   "source": [
    "# ARIMA"
   ]
  },
  {
   "cell_type": "code",
   "execution_count": 17,
   "metadata": {},
   "outputs": [],
   "source": [
    "first_diff = df['GDP per capita (current US$)'].diff()[1:]\n",
    "second_diff = first_diff.diff()[1:]"
   ]
  },
  {
   "cell_type": "code",
   "execution_count": 18,
   "metadata": {},
   "outputs": [
    {
     "data": {
      "image/png": "[encoded data removed]",
      "text/plain": [
       "<Figure size 432x288 with 1 Axes>"
      ]
     },
     "metadata": {
      "needs_background": "light"
     },
     "output_type": "display_data"
    }
   ],
   "source": [
    "plot_acf(second_diff)\n",
    "plt.show()"
   ]
  },
  {
   "cell_type": "code",
   "execution_count": 19,
   "metadata": {
    "scrolled": true
   },
   "outputs": [
    {
     "data": {
      "image/png": "[encoded data removed]",
      "text/plain": [
       "<Figure size 432x288 with 1 Axes>"
      ]
     },
     "metadata": {
      "needs_background": "light"
     },
     "output_type": "display_data"
    }
   ],
   "source": [
    "plot_pacf(second_diff)\n",
    "plt.show()"
   ]
  },
  {
   "cell_type": "code",
   "execution_count": 20,
   "metadata": {},
   "outputs": [],
   "source": [
    "train = df['GDP per capita (current US$)'][:int(len(df)*5/6)]"
   ]
  },
  {
   "cell_type": "code",
   "execution_count": 21,
   "metadata": {},
   "outputs": [],
   "source": [
    "arima = ARIMA(train,order = (2,2,2))"
   ]
  },
  {
   "cell_type": "code",
   "execution_count": 22,
   "metadata": {},
   "outputs": [],
   "source": [
    "arima = arima.fit()"
   ]
  },
  {
   "cell_type": "code",
   "execution_count": 23,
   "metadata": {},
   "outputs": [
    {
     "data": {
      "text/html": [
       "<table class=\"simpletable\">\n",
       "<caption>ARIMA Model Results</caption>\n",
       "<tr>\n",
       "  <th>Dep. Variable:</th> <td>D2.GDP per capita (current US$)</td> <th>  No. Observations:  </th>    <td>48</td>   \n",
       "</tr>\n",
       "<tr>\n",
       "  <th>Model:</th>                 <td>ARIMA(2, 2, 2)</td>          <th>  Log Likelihood     </th> <td>-239.871</td>\n",
       "</tr>\n",
       "<tr>\n",
       "  <th>Method:</th>                    <td>css-mle</td>             <th>  S.D. of innovations</th>  <td>34.671</td> \n",
       "</tr>\n",
       "<tr>\n",
       "  <th>Date:</th>                 <td>Sun, 05 Dec 2021</td>         <th>  AIC                </th>  <td>491.742</td>\n",
       "</tr>\n",
       "<tr>\n",
       "  <th>Time:</th>                     <td>23:40:15</td>             <th>  BIC                </th>  <td>502.969</td>\n",
       "</tr>\n",
       "<tr>\n",
       "  <th>Sample:</th>                       <td>2</td>                <th>  HQIC               </th>  <td>495.984</td>\n",
       "</tr>\n",
       "<tr>\n",
       "  <th></th>                              <td> </td>                <th>                     </th>     <td> </td>   \n",
       "</tr>\n",
       "</table>\n",
       "<table class=\"simpletable\">\n",
       "<tr>\n",
       "                    <td></td>                       <th>coef</th>     <th>std err</th>      <th>z</th>      <th>P>|z|</th>  <th>[0.025</th>    <th>0.975]</th>  \n",
       "</tr>\n",
       "<tr>\n",
       "  <th>const</th>                                 <td>    1.2517</td> <td>    0.596</td> <td>    2.102</td> <td> 0.036</td> <td>    0.085</td> <td>    2.419</td>\n",
       "</tr>\n",
       "<tr>\n",
       "  <th>ar.L1.D2.GDP per capita (current US$)</th> <td>    0.0866</td> <td>    0.388</td> <td>    0.223</td> <td> 0.823</td> <td>   -0.674</td> <td>    0.847</td>\n",
       "</tr>\n",
       "<tr>\n",
       "  <th>ar.L2.D2.GDP per capita (current US$)</th> <td>    0.4242</td> <td>    0.150</td> <td>    2.818</td> <td> 0.005</td> <td>    0.129</td> <td>    0.719</td>\n",
       "</tr>\n",
       "<tr>\n",
       "  <th>ma.L1.D2.GDP per capita (current US$)</th> <td>   -1.0849</td> <td>    0.405</td> <td>   -2.680</td> <td> 0.007</td> <td>   -1.878</td> <td>   -0.291</td>\n",
       "</tr>\n",
       "<tr>\n",
       "  <th>ma.L2.D2.GDP per capita (current US$)</th> <td>    0.0849</td> <td>    0.399</td> <td>    0.213</td> <td> 0.831</td> <td>   -0.697</td> <td>    0.867</td>\n",
       "</tr>\n",
       "</table>\n",
       "<table class=\"simpletable\">\n",
       "<caption>Roots</caption>\n",
       "<tr>\n",
       "    <td></td>   <th>            Real</th>  <th>         Imaginary</th> <th>         Modulus</th>  <th>        Frequency</th>\n",
       "</tr>\n",
       "<tr>\n",
       "  <th>AR.1</th> <td>           1.4368</td> <td>          +0.0000j</td> <td>           1.4368</td> <td>           0.0000</td>\n",
       "</tr>\n",
       "<tr>\n",
       "  <th>AR.2</th> <td>          -1.6409</td> <td>          +0.0000j</td> <td>           1.6409</td> <td>           0.5000</td>\n",
       "</tr>\n",
       "<tr>\n",
       "  <th>MA.1</th> <td>           1.0000</td> <td>          +0.0000j</td> <td>           1.0000</td> <td>           0.0000</td>\n",
       "</tr>\n",
       "<tr>\n",
       "  <th>MA.2</th> <td>          11.7743</td> <td>          +0.0000j</td> <td>          11.7743</td> <td>           0.0000</td>\n",
       "</tr>\n",
       "</table>"
      ],
      "text/plain": [
       "<class 'statsmodels.iolib.summary.Summary'>\n",
       "\"\"\"\n",
       "                                    ARIMA Model Results                                    \n",
       "===========================================================================================\n",
       "Dep. Variable:     D2.GDP per capita (current US$)   No. Observations:                   48\n",
       "Model:                              ARIMA(2, 2, 2)   Log Likelihood                -239.871\n",
       "Method:                                    css-mle   S.D. of innovations             34.671\n",
       "Date:                             Sun, 05 Dec 2021   AIC                            491.742\n",
       "Time:                                     23:40:15   BIC                            502.969\n",
       "Sample:                                          2   HQIC                           495.984\n",
       "                                                                                           \n",
       "=========================================================================================================\n",
       "                                            coef    std err          z      P>|z|      [0.025      0.975]\n",
       "---------------------------------------------------------------------------------------------------------\n",
       "const                                     1.2517      0.596      2.102      0.036       0.085       2.419\n",
       "ar.L1.D2.GDP per capita (current US$)     0.0866      0.388      0.223      0.823      -0.674       0.847\n",
       "ar.L2.D2.GDP per capita (current US$)     0.4242      0.150      2.818      0.005       0.129       0.719\n",
       "ma.L1.D2.GDP per capita (current US$)    -1.0849      0.405     -2.680      0.007      -1.878      -0.291\n",
       "ma.L2.D2.GDP per capita (current US$)     0.0849      0.399      0.213      0.831      -0.697       0.867\n",
       "                                    Roots                                    \n",
       "=============================================================================\n",
       "                  Real          Imaginary           Modulus         Frequency\n",
       "-----------------------------------------------------------------------------\n",
       "AR.1            1.4368           +0.0000j            1.4368            0.0000\n",
       "AR.2           -1.6409           +0.0000j            1.6409            0.5000\n",
       "MA.1            1.0000           +0.0000j            1.0000            0.0000\n",
       "MA.2           11.7743           +0.0000j           11.7743            0.0000\n",
       "-----------------------------------------------------------------------------\n",
       "\"\"\""
      ]
     },
     "execution_count": 23,
     "metadata": {},
     "output_type": "execute_result"
    }
   ],
   "source": [
    "arima.summary()"
   ]
  },
  {
   "cell_type": "code",
   "execution_count": 24,
   "metadata": {
    "scrolled": false
   },
   "outputs": [
    {
     "data": {
      "text/plain": [
       "array([1127.24960095, 1200.9431897 , 1246.29117659, 1310.32939206,\n",
       "       1364.57481474, 1426.51265904, 1485.57509352, 1548.26389028,\n",
       "       1610.65939376, 1675.18010833])"
      ]
     },
     "execution_count": 24,
     "metadata": {},
     "output_type": "execute_result"
    }
   ],
   "source": [
    "test_data,se,conf = arima.forecast(int(len(df)*1/6),alpha = 0.02)\n",
    "test_data"
   ]
  },
  {
   "cell_type": "code",
   "execution_count": 25,
   "metadata": {},
   "outputs": [],
   "source": [
    "actual = df['GDP per capita (current US$)'][len(train)+1:]"
   ]
  },
  {
   "cell_type": "code",
   "execution_count": 55,
   "metadata": {
    "scrolled": true
   },
   "outputs": [
    {
     "data": {
      "text/plain": [
       "(116849.84323856281, 324.71033389511604)"
      ]
     },
     "execution_count": 55,
     "metadata": {},
     "output_type": "execute_result"
    }
   ],
   "source": [
    "mean_squared_error(actual,test_data),mean_absolute_error(actual,test_data)"
   ]
  },
  {
   "cell_type": "code",
   "execution_count": 353,
   "metadata": {},
   "outputs": [
    {
     "data": {
      "text/plain": [
       "[<matplotlib.lines.Line2D at 0x2b7748d7ac0>]"
      ]
     },
     "execution_count": 353,
     "metadata": {},
     "output_type": "execute_result"
    },
    {
     "data": {
      "image/png": "[encoded data removed]",
      "text/plain": [
       "<Figure size 432x288 with 1 Axes>"
      ]
     },
     "metadata": {
      "needs_background": "light"
     },
     "output_type": "display_data"
    }
   ],
   "source": [
    "plt.title(\"Actual vs predicted\")\n",
    "plt.plot(actual)\n",
    "plt.plot(test_data)"
   ]
  },
  {
   "cell_type": "markdown",
   "metadata": {},
   "source": [
    "# Regression Models"
   ]
  },
  {
   "cell_type": "code",
   "execution_count": 248,
   "metadata": {},
   "outputs": [],
   "source": [
    "x = df[[i for i in columns if i not in['GDP per capita (current US$)','year']]]\n",
    "y = df['GDP per capita (current US$)']\n",
    "x_train,x_test,y_train,y_test = train_test_split(x,y,test_size=1/6,random_state=24)"
   ]
  },
  {
   "cell_type": "code",
   "execution_count": 268,
   "metadata": {},
   "outputs": [],
   "source": [
    "lr = LinearRegression().fit(x_train,y_train)"
   ]
  },
  {
   "cell_type": "code",
   "execution_count": 296,
   "metadata": {},
   "outputs": [],
   "source": [
    "pred = lr.predict(x_test)"
   ]
  },
  {
   "cell_type": "code",
   "execution_count": 297,
   "metadata": {
    "scrolled": true
   },
   "outputs": [
    {
     "data": {
      "text/plain": [
       "array([1361.47456252,  361.24095355,  627.9542286 ,  146.70504602,\n",
       "        320.47035201,  458.07579843,  232.48592394,   79.1392308 ,\n",
       "        161.61354419,  102.53254493,  459.70167081])"
      ]
     },
     "execution_count": 297,
     "metadata": {},
     "output_type": "execute_result"
    }
   ],
   "source": [
    "pred"
   ]
  },
  {
   "cell_type": "code",
   "execution_count": 298,
   "metadata": {},
   "outputs": [
    {
     "data": {
      "text/plain": [
       "array([-5.53685097e+00,  1.43248021e+00,  2.79747447e-10,  3.42380289e-09,\n",
       "        3.61255057e+00,  6.62738400e-01, -3.36453629e-09, -6.78858612e+00,\n",
       "       -7.14894654e+00, -3.34983779e-01, -3.13189172e-01, -3.48981233e+00,\n",
       "       -3.03238894e-03, -3.86054947e+00,  3.03239075e-03,  1.91716891e+00,\n",
       "       -1.08632173e+00, -1.46005805e-07,  3.07773932e+00, -2.65860890e+00,\n",
       "       -1.29399347e+01,  6.54454923e+00, -5.50093517e-04, -1.35438225e+00,\n",
       "       -2.20844606e+00,  6.10313376e-01, -1.95189069e+00, -1.69718520e+00,\n",
       "        2.37202007e-01, -3.38358519e-09, -2.56408301e-01, -6.10313373e-01,\n",
       "        1.63162533e+01,  5.71017634e+00, -4.59233573e+00, -5.50094971e-04,\n",
       "        3.37389909e-01,  3.03238880e-03, -1.73685374e+01,  6.51814780e-09,\n",
       "        1.97866220e-01,  1.91574793e+01, -5.73029602e-09,  1.33734357e-10,\n",
       "        7.47579776e-11,  3.87708079e+00,  3.29109953e+00, -3.50944354e-09,\n",
       "       -2.95174799e-01,  1.35438224e+00,  1.79685504e-06,  1.16877887e+00,\n",
       "       -5.83115437e-05,  3.23614391e-01, -4.91783407e-05, -3.23614391e-01,\n",
       "        6.85919033e-05, -1.83167690e-05, -3.34116696e+00, -3.92833112e+00,\n",
       "        5.71017634e+00,  1.65508918e-09, -1.96843342e-09, -3.14034659e+00,\n",
       "       -1.01269052e-05,  3.34116696e+00])"
      ]
     },
     "execution_count": 298,
     "metadata": {},
     "output_type": "execute_result"
    }
   ],
   "source": [
    "lr.coef_"
   ]
  },
  {
   "cell_type": "code",
   "execution_count": 299,
   "metadata": {},
   "outputs": [
    {
     "data": {
      "text/plain": [
       "(83.39058757820041, 7.523889800825165)"
      ]
     },
     "execution_count": 299,
     "metadata": {},
     "output_type": "execute_result"
    }
   ],
   "source": [
    "mean_squared_error(pred,y_test),mean_absolute_error(pred,y_test)"
   ]
  },
  {
   "cell_type": "code",
   "execution_count": 300,
   "metadata": {},
   "outputs": [
    {
     "data": {
      "text/plain": [
       "[<matplotlib.lines.Line2D at 0x2b7735134f0>]"
      ]
     },
     "execution_count": 300,
     "metadata": {},
     "output_type": "execute_result"
    },
    {
     "data": {
      "image/png": "[encoded data removed]",
      "text/plain": [
       "<Figure size 432x288 with 1 Axes>"
      ]
     },
     "metadata": {
      "needs_background": "light"
     },
     "output_type": "display_data"
    }
   ],
   "source": [
    "plt.title(\"Actual Vs Predicted\")\n",
    "plt.plot(y_test)\n",
    "plt.plot(pred)"
   ]
  },
  {
   "cell_type": "markdown",
   "metadata": {},
   "source": [
    "# Lasso"
   ]
  },
  {
   "cell_type": "code",
   "execution_count": 347,
   "metadata": {},
   "outputs": [],
   "source": [
    "model = Lasso(alpha=0.27)"
   ]
  },
  {
   "cell_type": "code",
   "execution_count": 348,
   "metadata": {},
   "outputs": [
    {
     "data": {
      "text/plain": [
       "Lasso(alpha=0.27)"
      ]
     },
     "execution_count": 348,
     "metadata": {},
     "output_type": "execute_result"
    }
   ],
   "source": [
    "model.fit(x_train,y_train)"
   ]
  },
  {
   "cell_type": "code",
   "execution_count": 349,
   "metadata": {},
   "outputs": [],
   "source": [
    "pred2 = model.predict(x_test)"
   ]
  },
  {
   "cell_type": "code",
   "execution_count": 350,
   "metadata": {},
   "outputs": [
    {
     "data": {
      "text/plain": [
       "array([-2.89237181e+01, -5.65470621e+00,  2.07149338e-09,  4.52641996e-09,\n",
       "        1.64432726e+00,  3.60883699e+00,  6.26964164e-10, -5.68430252e+00,\n",
       "       -1.68258056e-02, -8.14562863e-01, -0.00000000e+00, -8.48958992e-01,\n",
       "        4.44431636e-10, -0.00000000e+00, -8.16872990e-10,  3.17208569e+00,\n",
       "        2.11061469e-11, -1.67382821e-06, -0.00000000e+00,  2.02818844e-11,\n",
       "       -1.54504037e+00, -1.27649025e+01,  1.01967800e-11,  8.85557664e-11,\n",
       "       -2.02523299e+00,  8.53275922e-11, -6.27677010e-01, -1.28536851e-11,\n",
       "       -3.92408716e-01,  1.79426554e-11,  0.00000000e+00, -7.04329063e-12,\n",
       "       -1.40952914e+00,  8.67511466e-11,  1.74322268e+00,  3.11883848e-11,\n",
       "       -4.24392615e+00,  4.24827409e-11, -1.71243982e+00,  3.45106171e-10,\n",
       "       -2.43163611e-01, -4.00449229e+00,  9.85286126e-11, -1.68484899e-10,\n",
       "       -3.18354171e-10,  2.30502421e+00,  3.05972696e+01, -2.71538101e-09,\n",
       "       -4.57648854e-01, -1.61372702e-09, -1.72034485e-07, -4.52971094e+01,\n",
       "        8.74441540e-07, -0.00000000e+00,  1.14277131e-08,  0.00000000e+00,\n",
       "       -2.85140030e-09, -2.18201216e-08,  0.00000000e+00,  0.00000000e+00,\n",
       "        7.89636374e-11, -5.76986001e-11,  7.95311617e-11,  1.83594001e+00,\n",
       "       -1.97850951e-07, -0.00000000e+00])"
      ]
     },
     "execution_count": 350,
     "metadata": {},
     "output_type": "execute_result"
    }
   ],
   "source": [
    "model.coef_"
   ]
  },
  {
   "cell_type": "code",
   "execution_count": 351,
   "metadata": {
    "scrolled": true
   },
   "outputs": [
    {
     "data": {
      "text/plain": [
       "(84.404795506386, 7.990887305646873)"
      ]
     },
     "execution_count": 351,
     "metadata": {},
     "output_type": "execute_result"
    }
   ],
   "source": [
    "mean_squared_error(pred2,y_test),mean_absolute_error(pred2,y_test)"
   ]
  },
  {
   "cell_type": "code",
   "execution_count": 352,
   "metadata": {},
   "outputs": [
    {
     "data": {
      "text/plain": [
       "[<matplotlib.lines.Line2D at 0x2b7738b33d0>]"
      ]
     },
     "execution_count": 352,
     "metadata": {},
     "output_type": "execute_result"
    },
    {
     "data": {
      "image/png": "[encoded data removed]",
      "text/plain": [
       "<Figure size 432x288 with 1 Axes>"
      ]
     },
     "metadata": {
      "needs_background": "light"
     },
     "output_type": "display_data"
    }
   ],
   "source": [
    "plt.title(\"Actual Vs Predicted\")\n",
    "plt.plot(y_test)\n",
    "plt.plot(pred2)"
   ]
  },
  {
   "cell_type": "code",
   "execution_count": null,
   "metadata": {},
   "outputs": [],
   "source": []
  },
  {
   "cell_type": "code",
   "execution_count": null,
   "metadata": {},
   "outputs": [],
   "source": []
  },
  {
   "cell_type": "code",
   "execution_count": null,
   "metadata": {},
   "outputs": [],
   "source": []
  }
 ],
 "metadata": {
  "kernelspec": {
   "display_name": "Python 3",
   "language": "python",
   "name": "python3"
  },
  "language_info": {
   "codemirror_mode": {
    "name": "ipython",
    "version": 3
   },
   "file_extension": ".py",
   "mimetype": "text/x-python",
   "name": "python",
   "nbconvert_exporter": "python",
   "pygments_lexer": "ipython3",
   "version": "3.8.5"
  }
 },
 "nbformat": 4,
 "nbformat_minor": 4
}
