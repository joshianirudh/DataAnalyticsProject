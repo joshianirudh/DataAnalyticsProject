{
 "cells": [
  {
   "cell_type": "code",
   "execution_count": 1,
   "metadata": {},
   "outputs": [
    {
     "name": "stderr",
     "output_type": "stream",
     "text": [
      "Importing plotly failed. Interactive plots will not work.\n"
     ]
    }
   ],
   "source": [
    "import pandas as pd\n",
    "import numpy as np\n",
    "from statsmodels.graphics.tsaplots import plot_acf,plot_pacf\n",
    "from statsmodels.tsa.arima_model import ARIMA\n",
    "from statsmodels.tsa.stattools import acf,pacf\n",
    "import matplotlib.pyplot as plt\n",
    "import seaborn as sns\n",
    "import fbprophet\n",
    "from sklearn.linear_model import LinearRegression\n",
    "from sklearn.linear_model import Lasso\n",
    "from sklearn.metrics import mean_squared_error\n",
    "from sklearn.model_selection import train_test_split"
   ]
  },
  {
   "cell_type": "code",
   "execution_count": 4,
   "metadata": {},
   "outputs": [],
   "source": [
    "df = pd.read_csv('final.csv')"
   ]
  },
  {
   "cell_type": "code",
   "execution_count": 5,
   "metadata": {
    "scrolled": false
   },
   "outputs": [
    {
     "data": {
      "text/html": [
       "<div>\n",
       "<style scoped>\n",
       "    .dataframe tbody tr th:only-of-type {\n",
       "        vertical-align: middle;\n",
       "    }\n",
       "\n",
       "    .dataframe tbody tr th {\n",
       "        vertical-align: top;\n",
       "    }\n",
       "\n",
       "    .dataframe thead th {\n",
       "        text-align: right;\n",
       "    }\n",
       "</style>\n",
       "<table border=\"1\" class=\"dataframe\">\n",
       "  <thead>\n",
       "    <tr style=\"text-align: right;\">\n",
       "      <th></th>\n",
       "      <th>Unnamed: 0</th>\n",
       "      <th>Age dependency ratio (% of working-age population)</th>\n",
       "      <th>Agriculture, forestry, and fishing, value added (% of GDP)</th>\n",
       "      <th>Agriculture, forestry, and fishing, value added (current US$)</th>\n",
       "      <th>Arms imports (SIPRI trend indicator values)</th>\n",
       "      <th>Broad money (% of GDP)</th>\n",
       "      <th>Broad money to total reserves ratio</th>\n",
       "      <th>Changes in inventories (current US$)</th>\n",
       "      <th>Claims on central government, etc. (% GDP)</th>\n",
       "      <th>Consumer price index (2010 = 100)</th>\n",
       "      <th>...</th>\n",
       "      <th>Population, total</th>\n",
       "      <th>Rural population</th>\n",
       "      <th>Rural population (% of total population)</th>\n",
       "      <th>Services, value added (% of GDP)</th>\n",
       "      <th>Taxes less subsidies on products (current US$)</th>\n",
       "      <th>Total reserves (includes gold, current US$)</th>\n",
       "      <th>Total reserves minus gold (current US$)</th>\n",
       "      <th>Trade (% of GDP)</th>\n",
       "      <th>Urban population</th>\n",
       "      <th>Urban population (% of total population)</th>\n",
       "    </tr>\n",
       "  </thead>\n",
       "  <tbody>\n",
       "    <tr>\n",
       "      <th>0</th>\n",
       "      <td>1960 [YR1960]</td>\n",
       "      <td>76.999045</td>\n",
       "      <td>41.312839</td>\n",
       "      <td>1.529810e+10</td>\n",
       "      <td>5.440000e+08</td>\n",
       "      <td>22.071925</td>\n",
       "      <td>12.116774</td>\n",
       "      <td>4.571559e+08</td>\n",
       "      <td>15.000062</td>\n",
       "      <td>2.527487</td>\n",
       "      <td>...</td>\n",
       "      <td>450547675.0</td>\n",
       "      <td>369791510.0</td>\n",
       "      <td>82.076</td>\n",
       "      <td>38.782462</td>\n",
       "      <td>2.035209e+09</td>\n",
       "      <td>6.745366e+08</td>\n",
       "      <td>423000000.0</td>\n",
       "      <td>11.296833</td>\n",
       "      <td>80756165.0</td>\n",
       "      <td>17.924</td>\n",
       "    </tr>\n",
       "    <tr>\n",
       "      <th>1</th>\n",
       "      <td>1961 [YR1961]</td>\n",
       "      <td>78.007106</td>\n",
       "      <td>40.387402</td>\n",
       "      <td>1.584496e+10</td>\n",
       "      <td>1.122000e+09</td>\n",
       "      <td>21.501873</td>\n",
       "      <td>12.659441</td>\n",
       "      <td>-3.809357e+08</td>\n",
       "      <td>14.725330</td>\n",
       "      <td>2.570333</td>\n",
       "      <td>...</td>\n",
       "      <td>459642166.0</td>\n",
       "      <td>376759491.0</td>\n",
       "      <td>81.968</td>\n",
       "      <td>38.325875</td>\n",
       "      <td>2.303808e+09</td>\n",
       "      <td>6.663571e+08</td>\n",
       "      <td>418000000.0</td>\n",
       "      <td>10.261163</td>\n",
       "      <td>82882675.0</td>\n",
       "      <td>18.032</td>\n",
       "    </tr>\n",
       "    <tr>\n",
       "      <th>2</th>\n",
       "      <td>1962 [YR1962]</td>\n",
       "      <td>79.187531</td>\n",
       "      <td>38.371335</td>\n",
       "      <td>1.617792e+10</td>\n",
       "      <td>3.710000e+08</td>\n",
       "      <td>21.930703</td>\n",
       "      <td>18.031311</td>\n",
       "      <td>1.965947e+08</td>\n",
       "      <td>15.186626</td>\n",
       "      <td>2.663693</td>\n",
       "      <td>...</td>\n",
       "      <td>469077191.0</td>\n",
       "      <td>383620708.0</td>\n",
       "      <td>81.782</td>\n",
       "      <td>39.935845</td>\n",
       "      <td>2.674898e+09</td>\n",
       "      <td>5.127918e+08</td>\n",
       "      <td>265000000.0</td>\n",
       "      <td>10.200790</td>\n",
       "      <td>85456483.0</td>\n",
       "      <td>18.218</td>\n",
       "    </tr>\n",
       "    <tr>\n",
       "      <th>3</th>\n",
       "      <td>1963 [YR1963]</td>\n",
       "      <td>80.304725</td>\n",
       "      <td>39.319751</td>\n",
       "      <td>1.903938e+10</td>\n",
       "      <td>6.470000e+08</td>\n",
       "      <td>21.116283</td>\n",
       "      <td>16.821091</td>\n",
       "      <td>-3.076154e+08</td>\n",
       "      <td>14.641317</td>\n",
       "      <td>2.742170</td>\n",
       "      <td>...</td>\n",
       "      <td>478825602.0</td>\n",
       "      <td>390697750.0</td>\n",
       "      <td>81.595</td>\n",
       "      <td>38.095180</td>\n",
       "      <td>3.294071e+09</td>\n",
       "      <td>6.078625e+08</td>\n",
       "      <td>360000000.0</td>\n",
       "      <td>10.187338</td>\n",
       "      <td>88127852.0</td>\n",
       "      <td>18.405</td>\n",
       "    </tr>\n",
       "    <tr>\n",
       "      <th>4</th>\n",
       "      <td>1964 [YR1964]</td>\n",
       "      <td>80.998952</td>\n",
       "      <td>41.187738</td>\n",
       "      <td>2.326295e+10</td>\n",
       "      <td>9.200000e+08</td>\n",
       "      <td>19.806398</td>\n",
       "      <td>22.411741</td>\n",
       "      <td>-2.171540e+08</td>\n",
       "      <td>13.448422</td>\n",
       "      <td>3.108394</td>\n",
       "      <td>...</td>\n",
       "      <td>488848139.0</td>\n",
       "      <td>397946828.0</td>\n",
       "      <td>81.405</td>\n",
       "      <td>36.340821</td>\n",
       "      <td>3.758864e+09</td>\n",
       "      <td>4.991451e+08</td>\n",
       "      <td>251000000.0</td>\n",
       "      <td>9.410549</td>\n",
       "      <td>90901311.0</td>\n",
       "      <td>18.595</td>\n",
       "    </tr>\n",
       "  </tbody>\n",
       "</table>\n",
       "<p>5 rows × 68 columns</p>\n",
       "</div>"
      ],
      "text/plain": [
       "      Unnamed: 0  Age dependency ratio (% of working-age population)  \\\n",
       "0  1960 [YR1960]                                          76.999045    \n",
       "1  1961 [YR1961]                                          78.007106    \n",
       "2  1962 [YR1962]                                          79.187531    \n",
       "3  1963 [YR1963]                                          80.304725    \n",
       "4  1964 [YR1964]                                          80.998952    \n",
       "\n",
       "   Agriculture, forestry, and fishing, value added (% of GDP)  \\\n",
       "0                                          41.312839            \n",
       "1                                          40.387402            \n",
       "2                                          38.371335            \n",
       "3                                          39.319751            \n",
       "4                                          41.187738            \n",
       "\n",
       "   Agriculture, forestry, and fishing, value added (current US$)  \\\n",
       "0                                       1.529810e+10               \n",
       "1                                       1.584496e+10               \n",
       "2                                       1.617792e+10               \n",
       "3                                       1.903938e+10               \n",
       "4                                       2.326295e+10               \n",
       "\n",
       "   Arms imports (SIPRI trend indicator values)  Broad money (% of GDP)  \\\n",
       "0                                 5.440000e+08               22.071925   \n",
       "1                                 1.122000e+09               21.501873   \n",
       "2                                 3.710000e+08               21.930703   \n",
       "3                                 6.470000e+08               21.116283   \n",
       "4                                 9.200000e+08               19.806398   \n",
       "\n",
       "   Broad money to total reserves ratio  Changes in inventories (current US$)  \\\n",
       "0                            12.116774                          4.571559e+08   \n",
       "1                            12.659441                         -3.809357e+08   \n",
       "2                            18.031311                          1.965947e+08   \n",
       "3                            16.821091                         -3.076154e+08   \n",
       "4                            22.411741                         -2.171540e+08   \n",
       "\n",
       "   Claims on central government, etc. (% GDP)  \\\n",
       "0                                   15.000062   \n",
       "1                                   14.725330   \n",
       "2                                   15.186626   \n",
       "3                                   14.641317   \n",
       "4                                   13.448422   \n",
       "\n",
       "   Consumer price index (2010 = 100)  ...  Population, total  \\\n",
       "0                           2.527487  ...        450547675.0   \n",
       "1                           2.570333  ...        459642166.0   \n",
       "2                           2.663693  ...        469077191.0   \n",
       "3                           2.742170  ...        478825602.0   \n",
       "4                           3.108394  ...        488848139.0   \n",
       "\n",
       "   Rural population  Rural population (% of total population)  \\\n",
       "0       369791510.0                                    82.076   \n",
       "1       376759491.0                                    81.968   \n",
       "2       383620708.0                                    81.782   \n",
       "3       390697750.0                                    81.595   \n",
       "4       397946828.0                                    81.405   \n",
       "\n",
       "   Services, value added (% of GDP)  \\\n",
       "0                         38.782462   \n",
       "1                         38.325875   \n",
       "2                         39.935845   \n",
       "3                         38.095180   \n",
       "4                         36.340821   \n",
       "\n",
       "   Taxes less subsidies on products (current US$)  \\\n",
       "0                                    2.035209e+09   \n",
       "1                                    2.303808e+09   \n",
       "2                                    2.674898e+09   \n",
       "3                                    3.294071e+09   \n",
       "4                                    3.758864e+09   \n",
       "\n",
       "   Total reserves (includes gold, current US$)  \\\n",
       "0                                 6.745366e+08   \n",
       "1                                 6.663571e+08   \n",
       "2                                 5.127918e+08   \n",
       "3                                 6.078625e+08   \n",
       "4                                 4.991451e+08   \n",
       "\n",
       "   Total reserves minus gold (current US$)  Trade (% of GDP)  \\\n",
       "0                              423000000.0         11.296833   \n",
       "1                              418000000.0         10.261163   \n",
       "2                              265000000.0         10.200790   \n",
       "3                              360000000.0         10.187338   \n",
       "4                              251000000.0          9.410549   \n",
       "\n",
       "   Urban population  Urban population (% of total population)  \n",
       "0        80756165.0                                    17.924  \n",
       "1        82882675.0                                    18.032  \n",
       "2        85456483.0                                    18.218  \n",
       "3        88127852.0                                    18.405  \n",
       "4        90901311.0                                    18.595  \n",
       "\n",
       "[5 rows x 68 columns]"
      ]
     },
     "execution_count": 5,
     "metadata": {},
     "output_type": "execute_result"
    }
   ],
   "source": [
    "df.head()"
   ]
  },
  {
   "cell_type": "code",
   "execution_count": 6,
   "metadata": {},
   "outputs": [],
   "source": [
    "df = df.rename({'Unnamed: 0':'year'},axis = 1)"
   ]
  },
  {
   "cell_type": "code",
   "execution_count": 7,
   "metadata": {
    "scrolled": false
   },
   "outputs": [
    {
     "data": {
      "text/plain": [
       "year                                                              object\n",
       "Age dependency ratio (% of working-age population)               float64\n",
       "Agriculture, forestry, and fishing, value added (% of GDP)       float64\n",
       "Agriculture, forestry, and fishing, value added (current US$)    float64\n",
       "Arms imports (SIPRI trend indicator values)                      float64\n",
       "                                                                  ...   \n",
       "Total reserves (includes gold, current US$)                      float64\n",
       "Total reserves minus gold (current US$)                          float64\n",
       "Trade (% of GDP)                                                 float64\n",
       "Urban population                                                 float64\n",
       "Urban population (% of total population)                         float64\n",
       "Length: 68, dtype: object"
      ]
     },
     "execution_count": 7,
     "metadata": {},
     "output_type": "execute_result"
    }
   ],
   "source": [
    "df.dtypes"
   ]
  },
  {
   "cell_type": "code",
   "execution_count": 8,
   "metadata": {},
   "outputs": [
    {
     "data": {
      "text/plain": [
       "'1960 [YR1960]'"
      ]
     },
     "execution_count": 8,
     "metadata": {},
     "output_type": "execute_result"
    }
   ],
   "source": [
    "df.year[0]"
   ]
  },
  {
   "cell_type": "code",
   "execution_count": 9,
   "metadata": {},
   "outputs": [],
   "source": [
    "year = []\n",
    "for i in df.year:\n",
    "     year.append(i.split(' ')[0])\n",
    "df.year = year"
   ]
  },
  {
   "cell_type": "code",
   "execution_count": 10,
   "metadata": {},
   "outputs": [
    {
     "data": {
      "text/plain": [
       "0     1960\n",
       "1     1961\n",
       "2     1962\n",
       "3     1963\n",
       "4     1964\n",
       "      ... \n",
       "56    2016\n",
       "57    2017\n",
       "58    2018\n",
       "59    2019\n",
       "60    2020\n",
       "Name: year, Length: 61, dtype: object"
      ]
     },
     "execution_count": 10,
     "metadata": {},
     "output_type": "execute_result"
    }
   ],
   "source": [
    "df.year"
   ]
  },
  {
   "cell_type": "code",
   "execution_count": 11,
   "metadata": {},
   "outputs": [],
   "source": [
    "df['year'] = pd.to_datetime(df['year'],dayfirst=True)"
   ]
  },
  {
   "cell_type": "code",
   "execution_count": 12,
   "metadata": {},
   "outputs": [],
   "source": [
    "columns = list(df.columns)"
   ]
  },
  {
   "cell_type": "code",
   "execution_count": 13,
   "metadata": {},
   "outputs": [],
   "source": [
    "x = df[[i for i in columns if i not in'GDP per capita (current US$)']]\n",
    "y = df['GDP per capita (current US$)']"
   ]
  },
  {
   "cell_type": "code",
   "execution_count": 14,
   "metadata": {},
   "outputs": [],
   "source": [
    "x_train,x_test,y_train,y_test = train_test_split(x,y,test_size=1/6)"
   ]
  },
  {
   "cell_type": "raw",
   "metadata": {},
   "source": [
    "Time-Series Models"
   ]
  },
  {
   "cell_type": "code",
   "execution_count": 15,
   "metadata": {},
   "outputs": [],
   "source": [
    "first_diff = df['GDP per capita (current US$)'].diff()[1:]\n",
    "second_diff = first_diff.diff()[1:]"
   ]
  },
  {
   "cell_type": "code",
   "execution_count": 16,
   "metadata": {},
   "outputs": [
    {
     "data": {
      "image/png": "[encoded data removed]",
      "text/plain": [
       "<Figure size 432x288 with 1 Axes>"
      ]
     },
     "metadata": {
      "needs_background": "light"
     },
     "output_type": "display_data"
    }
   ],
   "source": [
    "plot_acf(second_diff)\n",
    "plt.show()"
   ]
  },
  {
   "cell_type": "code",
   "execution_count": 17,
   "metadata": {
    "scrolled": true
   },
   "outputs": [
    {
     "data": {
      "image/png": "[encoded data removed]",
      "text/plain": [
       "<Figure size 432x288 with 1 Axes>"
      ]
     },
     "metadata": {
      "needs_background": "light"
     },
     "output_type": "display_data"
    }
   ],
   "source": [
    "plot_pacf(second_diff)\n",
    "plt.show()"
   ]
  },
  {
   "cell_type": "code",
   "execution_count": 18,
   "metadata": {},
   "outputs": [],
   "source": [
    "train = df['GDP per capita (current US$)'][:int(len(df)*5/6)]"
   ]
  },
  {
   "cell_type": "code",
   "execution_count": 19,
   "metadata": {},
   "outputs": [
    {
     "name": "stderr",
     "output_type": "stream",
     "text": [
      "C:\\Users\\joani\\anaconda3\\lib\\site-packages\\statsmodels\\tsa\\arima_model.py:472: FutureWarning: \n",
      "statsmodels.tsa.arima_model.ARMA and statsmodels.tsa.arima_model.ARIMA have\n",
      "been deprecated in favor of statsmodels.tsa.arima.model.ARIMA (note the .\n",
      "between arima and model) and\n",
      "statsmodels.tsa.SARIMAX. These will be removed after the 0.12 release.\n",
      "\n",
      "statsmodels.tsa.arima.model.ARIMA makes use of the statespace framework and\n",
      "is both well tested and maintained.\n",
      "\n",
      "To silence this warning and continue using ARMA and ARIMA until they are\n",
      "removed, use:\n",
      "\n",
      "import warnings\n",
      "warnings.filterwarnings('ignore', 'statsmodels.tsa.arima_model.ARMA',\n",
      "                        FutureWarning)\n",
      "warnings.filterwarnings('ignore', 'statsmodels.tsa.arima_model.ARIMA',\n",
      "                        FutureWarning)\n",
      "\n",
      "  warnings.warn(ARIMA_DEPRECATION_WARN, FutureWarning)\n"
     ]
    }
   ],
   "source": [
    "arima = ARIMA(train,order = (2,2,2))"
   ]
  },
  {
   "cell_type": "code",
   "execution_count": 20,
   "metadata": {},
   "outputs": [
    {
     "name": "stderr",
     "output_type": "stream",
     "text": [
      "C:\\Users\\joani\\anaconda3\\lib\\site-packages\\statsmodels\\tsa\\arima_model.py:472: FutureWarning: \n",
      "statsmodels.tsa.arima_model.ARMA and statsmodels.tsa.arima_model.ARIMA have\n",
      "been deprecated in favor of statsmodels.tsa.arima.model.ARIMA (note the .\n",
      "between arima and model) and\n",
      "statsmodels.tsa.SARIMAX. These will be removed after the 0.12 release.\n",
      "\n",
      "statsmodels.tsa.arima.model.ARIMA makes use of the statespace framework and\n",
      "is both well tested and maintained.\n",
      "\n",
      "To silence this warning and continue using ARMA and ARIMA until they are\n",
      "removed, use:\n",
      "\n",
      "import warnings\n",
      "warnings.filterwarnings('ignore', 'statsmodels.tsa.arima_model.ARMA',\n",
      "                        FutureWarning)\n",
      "warnings.filterwarnings('ignore', 'statsmodels.tsa.arima_model.ARIMA',\n",
      "                        FutureWarning)\n",
      "\n",
      "  warnings.warn(ARIMA_DEPRECATION_WARN, FutureWarning)\n"
     ]
    }
   ],
   "source": [
    "arima = arima.fit()"
   ]
  },
  {
   "cell_type": "code",
   "execution_count": 21,
   "metadata": {},
   "outputs": [
    {
     "data": {
      "text/html": [
       "<table class=\"simpletable\">\n",
       "<caption>ARIMA Model Results</caption>\n",
       "<tr>\n",
       "  <th>Dep. Variable:</th> <td>D2.GDP per capita (current US$)</td> <th>  No. Observations:  </th>    <td>48</td>   \n",
       "</tr>\n",
       "<tr>\n",
       "  <th>Model:</th>                 <td>ARIMA(2, 2, 2)</td>          <th>  Log Likelihood     </th> <td>-239.871</td>\n",
       "</tr>\n",
       "<tr>\n",
       "  <th>Method:</th>                    <td>css-mle</td>             <th>  S.D. of innovations</th>  <td>34.671</td> \n",
       "</tr>\n",
       "<tr>\n",
       "  <th>Date:</th>                 <td>Sun, 05 Dec 2021</td>         <th>  AIC                </th>  <td>491.742</td>\n",
       "</tr>\n",
       "<tr>\n",
       "  <th>Time:</th>                     <td>15:57:06</td>             <th>  BIC                </th>  <td>502.969</td>\n",
       "</tr>\n",
       "<tr>\n",
       "  <th>Sample:</th>                       <td>2</td>                <th>  HQIC               </th>  <td>495.984</td>\n",
       "</tr>\n",
       "<tr>\n",
       "  <th></th>                              <td> </td>                <th>                     </th>     <td> </td>   \n",
       "</tr>\n",
       "</table>\n",
       "<table class=\"simpletable\">\n",
       "<tr>\n",
       "                    <td></td>                       <th>coef</th>     <th>std err</th>      <th>z</th>      <th>P>|z|</th>  <th>[0.025</th>    <th>0.975]</th>  \n",
       "</tr>\n",
       "<tr>\n",
       "  <th>const</th>                                 <td>    1.2517</td> <td>    0.596</td> <td>    2.102</td> <td> 0.036</td> <td>    0.085</td> <td>    2.419</td>\n",
       "</tr>\n",
       "<tr>\n",
       "  <th>ar.L1.D2.GDP per capita (current US$)</th> <td>    0.0866</td> <td>    0.388</td> <td>    0.223</td> <td> 0.823</td> <td>   -0.674</td> <td>    0.847</td>\n",
       "</tr>\n",
       "<tr>\n",
       "  <th>ar.L2.D2.GDP per capita (current US$)</th> <td>    0.4242</td> <td>    0.150</td> <td>    2.818</td> <td> 0.005</td> <td>    0.129</td> <td>    0.719</td>\n",
       "</tr>\n",
       "<tr>\n",
       "  <th>ma.L1.D2.GDP per capita (current US$)</th> <td>   -1.0849</td> <td>    0.405</td> <td>   -2.680</td> <td> 0.007</td> <td>   -1.878</td> <td>   -0.291</td>\n",
       "</tr>\n",
       "<tr>\n",
       "  <th>ma.L2.D2.GDP per capita (current US$)</th> <td>    0.0849</td> <td>    0.399</td> <td>    0.213</td> <td> 0.831</td> <td>   -0.697</td> <td>    0.867</td>\n",
       "</tr>\n",
       "</table>\n",
       "<table class=\"simpletable\">\n",
       "<caption>Roots</caption>\n",
       "<tr>\n",
       "    <td></td>   <th>            Real</th>  <th>         Imaginary</th> <th>         Modulus</th>  <th>        Frequency</th>\n",
       "</tr>\n",
       "<tr>\n",
       "  <th>AR.1</th> <td>           1.4368</td> <td>          +0.0000j</td> <td>           1.4368</td> <td>           0.0000</td>\n",
       "</tr>\n",
       "<tr>\n",
       "  <th>AR.2</th> <td>          -1.6409</td> <td>          +0.0000j</td> <td>           1.6409</td> <td>           0.5000</td>\n",
       "</tr>\n",
       "<tr>\n",
       "  <th>MA.1</th> <td>           1.0000</td> <td>          +0.0000j</td> <td>           1.0000</td> <td>           0.0000</td>\n",
       "</tr>\n",
       "<tr>\n",
       "  <th>MA.2</th> <td>          11.7743</td> <td>          +0.0000j</td> <td>          11.7743</td> <td>           0.0000</td>\n",
       "</tr>\n",
       "</table>"
      ],
      "text/plain": [
       "<class 'statsmodels.iolib.summary.Summary'>\n",
       "\"\"\"\n",
       "                                    ARIMA Model Results                                    \n",
       "===========================================================================================\n",
       "Dep. Variable:     D2.GDP per capita (current US$)   No. Observations:                   48\n",
       "Model:                              ARIMA(2, 2, 2)   Log Likelihood                -239.871\n",
       "Method:                                    css-mle   S.D. of innovations             34.671\n",
       "Date:                             Sun, 05 Dec 2021   AIC                            491.742\n",
       "Time:                                     15:57:06   BIC                            502.969\n",
       "Sample:                                          2   HQIC                           495.984\n",
       "                                                                                           \n",
       "=========================================================================================================\n",
       "                                            coef    std err          z      P>|z|      [0.025      0.975]\n",
       "---------------------------------------------------------------------------------------------------------\n",
       "const                                     1.2517      0.596      2.102      0.036       0.085       2.419\n",
       "ar.L1.D2.GDP per capita (current US$)     0.0866      0.388      0.223      0.823      -0.674       0.847\n",
       "ar.L2.D2.GDP per capita (current US$)     0.4242      0.150      2.818      0.005       0.129       0.719\n",
       "ma.L1.D2.GDP per capita (current US$)    -1.0849      0.405     -2.680      0.007      -1.878      -0.291\n",
       "ma.L2.D2.GDP per capita (current US$)     0.0849      0.399      0.213      0.831      -0.697       0.867\n",
       "                                    Roots                                    \n",
       "=============================================================================\n",
       "                  Real          Imaginary           Modulus         Frequency\n",
       "-----------------------------------------------------------------------------\n",
       "AR.1            1.4368           +0.0000j            1.4368            0.0000\n",
       "AR.2           -1.6409           +0.0000j            1.6409            0.5000\n",
       "MA.1            1.0000           +0.0000j            1.0000            0.0000\n",
       "MA.2           11.7743           +0.0000j           11.7743            0.0000\n",
       "-----------------------------------------------------------------------------\n",
       "\"\"\""
      ]
     },
     "execution_count": 21,
     "metadata": {},
     "output_type": "execute_result"
    }
   ],
   "source": [
    "arima.summary()"
   ]
  },
  {
   "cell_type": "code",
   "execution_count": 22,
   "metadata": {
    "scrolled": true
   },
   "outputs": [
    {
     "data": {
      "text/plain": [
       "array([1127.24960095, 1200.9431897 , 1246.29117659, 1310.32939206,\n",
       "       1364.57481474, 1426.51265904, 1485.57509352, 1548.26389028,\n",
       "       1610.65939376, 1675.18010833])"
      ]
     },
     "execution_count": 22,
     "metadata": {},
     "output_type": "execute_result"
    }
   ],
   "source": [
    "test_data,se,conf = arima.forecast(int(len(df)*1/6),alpha = 0.02)\n",
    "test_data"
   ]
  },
  {
   "cell_type": "code",
   "execution_count": 23,
   "metadata": {},
   "outputs": [],
   "source": [
    "actual = df['GDP per capita (current US$)'][len(train)+1:]"
   ]
  },
  {
   "cell_type": "code",
   "execution_count": 24,
   "metadata": {
    "scrolled": true
   },
   "outputs": [
    {
     "data": {
      "text/plain": [
       "116849.84323856281"
      ]
     },
     "execution_count": 24,
     "metadata": {},
     "output_type": "execute_result"
    }
   ],
   "source": [
    "mean_squared_error(actual,test_data)"
   ]
  },
  {
   "cell_type": "code",
   "execution_count": 25,
   "metadata": {
    "scrolled": true
   },
   "outputs": [
    {
     "data": {
      "text/plain": [
       "[<matplotlib.lines.Line2D at 0x28b6616aaf0>]"
      ]
     },
     "execution_count": 25,
     "metadata": {},
     "output_type": "execute_result"
    },
    {
     "data": {
      "image/png": "[encoded data removed]",
      "text/plain": [
       "<Figure size 432x288 with 1 Axes>"
      ]
     },
     "metadata": {
      "needs_background": "light"
     },
     "output_type": "display_data"
    }
   ],
   "source": [
    "plt.plot(actual-test_data)"
   ]
  },
  {
   "cell_type": "raw",
   "metadata": {},
   "source": [
    "FB Prophet :State of the art time series forecasting library"
   ]
  },
  {
   "cell_type": "code",
   "execution_count": 26,
   "metadata": {},
   "outputs": [],
   "source": [
    "data = df[['year','GDP per capita (current US$)']]"
   ]
  },
  {
   "cell_type": "code",
   "execution_count": 27,
   "metadata": {
    "scrolled": false
   },
   "outputs": [
    {
     "data": {
      "text/html": [
       "<div>\n",
       "<style scoped>\n",
       "    .dataframe tbody tr th:only-of-type {\n",
       "        vertical-align: middle;\n",
       "    }\n",
       "\n",
       "    .dataframe tbody tr th {\n",
       "        vertical-align: top;\n",
       "    }\n",
       "\n",
       "    .dataframe thead th {\n",
       "        text-align: right;\n",
       "    }\n",
       "</style>\n",
       "<table border=\"1\" class=\"dataframe\">\n",
       "  <thead>\n",
       "    <tr style=\"text-align: right;\">\n",
       "      <th></th>\n",
       "      <th>year</th>\n",
       "      <th>GDP per capita (current US$)</th>\n",
       "    </tr>\n",
       "  </thead>\n",
       "  <tbody>\n",
       "    <tr>\n",
       "      <th>0</th>\n",
       "      <td>1960-01-01</td>\n",
       "      <td>82.188603</td>\n",
       "    </tr>\n",
       "    <tr>\n",
       "      <th>1</th>\n",
       "      <td>1961-01-01</td>\n",
       "      <td>85.354301</td>\n",
       "    </tr>\n",
       "    <tr>\n",
       "      <th>2</th>\n",
       "      <td>1962-01-01</td>\n",
       "      <td>89.881756</td>\n",
       "    </tr>\n",
       "    <tr>\n",
       "      <th>3</th>\n",
       "      <td>1963-01-01</td>\n",
       "      <td>101.126429</td>\n",
       "    </tr>\n",
       "    <tr>\n",
       "      <th>4</th>\n",
       "      <td>1964-01-01</td>\n",
       "      <td>115.537496</td>\n",
       "    </tr>\n",
       "    <tr>\n",
       "      <th>...</th>\n",
       "      <td>...</td>\n",
       "      <td>...</td>\n",
       "    </tr>\n",
       "    <tr>\n",
       "      <th>56</th>\n",
       "      <td>2016-01-01</td>\n",
       "      <td>1732.554242</td>\n",
       "    </tr>\n",
       "    <tr>\n",
       "      <th>57</th>\n",
       "      <td>2017-01-01</td>\n",
       "      <td>1980.667020</td>\n",
       "    </tr>\n",
       "    <tr>\n",
       "      <th>58</th>\n",
       "      <td>2018-01-01</td>\n",
       "      <td>1996.915087</td>\n",
       "    </tr>\n",
       "    <tr>\n",
       "      <th>59</th>\n",
       "      <td>2019-01-01</td>\n",
       "      <td>2100.751461</td>\n",
       "    </tr>\n",
       "    <tr>\n",
       "      <th>60</th>\n",
       "      <td>2020-01-01</td>\n",
       "      <td>1900.706810</td>\n",
       "    </tr>\n",
       "  </tbody>\n",
       "</table>\n",
       "<p>61 rows × 2 columns</p>\n",
       "</div>"
      ],
      "text/plain": [
       "         year  GDP per capita (current US$)\n",
       "0  1960-01-01                     82.188603\n",
       "1  1961-01-01                     85.354301\n",
       "2  1962-01-01                     89.881756\n",
       "3  1963-01-01                    101.126429\n",
       "4  1964-01-01                    115.537496\n",
       "..        ...                           ...\n",
       "56 2016-01-01                   1732.554242\n",
       "57 2017-01-01                   1980.667020\n",
       "58 2018-01-01                   1996.915087\n",
       "59 2019-01-01                   2100.751461\n",
       "60 2020-01-01                   1900.706810\n",
       "\n",
       "[61 rows x 2 columns]"
      ]
     },
     "execution_count": 27,
     "metadata": {},
     "output_type": "execute_result"
    }
   ],
   "source": [
    "data"
   ]
  },
  {
   "cell_type": "code",
   "execution_count": 28,
   "metadata": {},
   "outputs": [],
   "source": [
    "data.columns = ['ds','y']"
   ]
  },
  {
   "cell_type": "code",
   "execution_count": 29,
   "metadata": {
    "scrolled": true
   },
   "outputs": [
    {
     "data": {
      "text/html": [
       "<div>\n",
       "<style scoped>\n",
       "    .dataframe tbody tr th:only-of-type {\n",
       "        vertical-align: middle;\n",
       "    }\n",
       "\n",
       "    .dataframe tbody tr th {\n",
       "        vertical-align: top;\n",
       "    }\n",
       "\n",
       "    .dataframe thead th {\n",
       "        text-align: right;\n",
       "    }\n",
       "</style>\n",
       "<table border=\"1\" class=\"dataframe\">\n",
       "  <thead>\n",
       "    <tr style=\"text-align: right;\">\n",
       "      <th></th>\n",
       "      <th>ds</th>\n",
       "      <th>y</th>\n",
       "    </tr>\n",
       "  </thead>\n",
       "  <tbody>\n",
       "    <tr>\n",
       "      <th>0</th>\n",
       "      <td>1960-01-01</td>\n",
       "      <td>82.188603</td>\n",
       "    </tr>\n",
       "    <tr>\n",
       "      <th>1</th>\n",
       "      <td>1961-01-01</td>\n",
       "      <td>85.354301</td>\n",
       "    </tr>\n",
       "    <tr>\n",
       "      <th>2</th>\n",
       "      <td>1962-01-01</td>\n",
       "      <td>89.881756</td>\n",
       "    </tr>\n",
       "    <tr>\n",
       "      <th>3</th>\n",
       "      <td>1963-01-01</td>\n",
       "      <td>101.126429</td>\n",
       "    </tr>\n",
       "    <tr>\n",
       "      <th>4</th>\n",
       "      <td>1964-01-01</td>\n",
       "      <td>115.537496</td>\n",
       "    </tr>\n",
       "    <tr>\n",
       "      <th>...</th>\n",
       "      <td>...</td>\n",
       "      <td>...</td>\n",
       "    </tr>\n",
       "    <tr>\n",
       "      <th>56</th>\n",
       "      <td>2016-01-01</td>\n",
       "      <td>1732.554242</td>\n",
       "    </tr>\n",
       "    <tr>\n",
       "      <th>57</th>\n",
       "      <td>2017-01-01</td>\n",
       "      <td>1980.667020</td>\n",
       "    </tr>\n",
       "    <tr>\n",
       "      <th>58</th>\n",
       "      <td>2018-01-01</td>\n",
       "      <td>1996.915087</td>\n",
       "    </tr>\n",
       "    <tr>\n",
       "      <th>59</th>\n",
       "      <td>2019-01-01</td>\n",
       "      <td>2100.751461</td>\n",
       "    </tr>\n",
       "    <tr>\n",
       "      <th>60</th>\n",
       "      <td>2020-01-01</td>\n",
       "      <td>1900.706810</td>\n",
       "    </tr>\n",
       "  </tbody>\n",
       "</table>\n",
       "<p>61 rows × 2 columns</p>\n",
       "</div>"
      ],
      "text/plain": [
       "           ds            y\n",
       "0  1960-01-01    82.188603\n",
       "1  1961-01-01    85.354301\n",
       "2  1962-01-01    89.881756\n",
       "3  1963-01-01   101.126429\n",
       "4  1964-01-01   115.537496\n",
       "..        ...          ...\n",
       "56 2016-01-01  1732.554242\n",
       "57 2017-01-01  1980.667020\n",
       "58 2018-01-01  1996.915087\n",
       "59 2019-01-01  2100.751461\n",
       "60 2020-01-01  1900.706810\n",
       "\n",
       "[61 rows x 2 columns]"
      ]
     },
     "execution_count": 29,
     "metadata": {},
     "output_type": "execute_result"
    }
   ],
   "source": [
    "data"
   ]
  },
  {
   "cell_type": "code",
   "execution_count": 30,
   "metadata": {},
   "outputs": [],
   "source": [
    "model = fbprophet.Prophet()"
   ]
  },
  {
   "cell_type": "code",
   "execution_count": null,
   "metadata": {},
   "outputs": [
    {
     "name": "stderr",
     "output_type": "stream",
     "text": [
      "INFO:fbprophet:Disabling weekly seasonality. Run prophet with weekly_seasonality=True to override this.\n",
      "INFO:fbprophet:Disabling daily seasonality. Run prophet with daily_seasonality=True to override this.\n"
     ]
    },
    {
     "ename": "KeyError",
     "evalue": "'metric_file'",
     "output_type": "error",
     "traceback": [
      "\u001b[1;31m---------------------------------------------------------------------------\u001b[0m",
      "\u001b[1;31mKeyError\u001b[0m                                  Traceback (most recent call last)",
      "\u001b[1;31mKeyError\u001b[0m: 'metric_file'"
     ]
    },
    {
     "name": "stderr",
     "output_type": "stream",
     "text": [
      "Exception ignored in: 'stanfit4anon_model_f5236004a3fd5b8429270d00efcc0cf9_9045703871880297330._set_stanargs_from_dict'\n",
      "Traceback (most recent call last):\n",
      "  File \"C:\\Users\\joani\\anaconda3\\lib\\site-packages\\pystan\\model.py\", line 550, in optimizing\n",
      "    ret, sample = fit._call_sampler(stan_args)\n",
      "KeyError: 'metric_file'\n"
     ]
    }
   ],
   "source": [
    "model.fit(data)"
   ]
  },
  {
   "cell_type": "raw",
   "metadata": {},
   "source": [
    "Regression Models"
   ]
  },
  {
   "cell_type": "code",
   "execution_count": 57,
   "metadata": {},
   "outputs": [],
   "source": [
    "lr = LinearRegression().fit(x_train,y_train)"
   ]
  },
  {
   "cell_type": "code",
   "execution_count": 58,
   "metadata": {},
   "outputs": [],
   "source": [
    "pred = lr.predict(x_test)"
   ]
  },
  {
   "cell_type": "code",
   "execution_count": 68,
   "metadata": {},
   "outputs": [
    {
     "data": {
      "text/plain": [
       "array([ 113.05097401,  163.53975826,  345.78647257, 1619.73357572,\n",
       "        438.29446918,  950.36978715,  292.34699286, 1954.3036401 ,\n",
       "        294.20578286,  200.02580214,   83.5691368 ])"
      ]
     },
     "execution_count": 68,
     "metadata": {},
     "output_type": "execute_result"
    }
   ],
   "source": [
    "pred"
   ]
  },
  {
   "cell_type": "code",
   "execution_count": 76,
   "metadata": {},
   "outputs": [
    {
     "data": {
      "text/plain": [
       "805.7269550916558"
      ]
     },
     "execution_count": 76,
     "metadata": {},
     "output_type": "execute_result"
    }
   ],
   "source": [
    "mean_squared_error(pred,y_test)"
   ]
  },
  {
   "cell_type": "code",
   "execution_count": 88,
   "metadata": {
    "scrolled": true
   },
   "outputs": [
    {
     "data": {
      "text/plain": [
       "Age dependency ratio (% of working-age population)              -0.936143\n",
       "Agriculture, forestry, and fishing, value added (% of GDP)      -0.798051\n",
       "Agriculture, forestry, and fishing, value added (current US$)    0.996162\n",
       "Arms imports (SIPRI trend indicator values)                      0.522804\n",
       "Broad money (% of GDP)                                           0.888648\n",
       "                                                                   ...   \n",
       "Total reserves (includes gold, current US$)                      0.976371\n",
       "Total reserves minus gold (current US$)                          0.974754\n",
       "Trade (% of GDP)                                                 0.858177\n",
       "Urban population                                                 0.923091\n",
       "Urban population (% of total population)                         0.893414\n",
       "Name: GDP per capita (current US$), Length: 67, dtype: float64"
      ]
     },
     "execution_count": 88,
     "metadata": {},
     "output_type": "execute_result"
    }
   ],
   "source": [
    "df.corr()[\"GDP per capita (current US$)\"]"
   ]
  },
  {
   "cell_type": "raw",
   "metadata": {},
   "source": [
    "Lasso"
   ]
  },
  {
   "cell_type": "code",
   "execution_count": 106,
   "metadata": {},
   "outputs": [],
   "source": [
    "model = Lasso(alpha=1.0)"
   ]
  },
  {
   "cell_type": "code",
   "execution_count": 107,
   "metadata": {},
   "outputs": [
    {
     "name": "stderr",
     "output_type": "stream",
     "text": [
      "C:\\Users\\joani\\anaconda3\\lib\\site-packages\\sklearn\\linear_model\\_coordinate_descent.py:529: ConvergenceWarning: Objective did not converge. You might want to increase the number of iterations. Duality gap: 3650.735285489469, tolerance: 1611.093120216769\n",
      "  model = cd_fast.enet_coordinate_descent(\n"
     ]
    },
    {
     "data": {
      "text/plain": [
       "Lasso()"
      ]
     },
     "execution_count": 107,
     "metadata": {},
     "output_type": "execute_result"
    }
   ],
   "source": [
    "model.fit(x_train,y_train)"
   ]
  },
  {
   "cell_type": "code",
   "execution_count": 108,
   "metadata": {},
   "outputs": [],
   "source": [
    "pred = model.predict(x_test)"
   ]
  },
  {
   "cell_type": "code",
   "execution_count": 109,
   "metadata": {},
   "outputs": [
    {
     "data": {
      "text/plain": [
       "349.9059535977353"
      ]
     },
     "execution_count": 109,
     "metadata": {},
     "output_type": "execute_result"
    }
   ],
   "source": [
    "mean_squared_error(pred,y_test)"
   ]
  },
  {
   "cell_type": "code",
   "execution_count": null,
   "metadata": {},
   "outputs": [],
   "source": []
  }
 ],
 "metadata": {
  "kernelspec": {
   "display_name": "Python 3",
   "language": "python",
   "name": "python3"
  },
  "language_info": {
   "codemirror_mode": {
    "name": "ipython",
    "version": 3
   },
   "file_extension": ".py",
   "mimetype": "text/x-python",
   "name": "python",
   "nbconvert_exporter": "python",
   "pygments_lexer": "ipython3",
   "version": "3.8.5"
  }
 },
 "nbformat": 4,
 "nbformat_minor": 4
}
